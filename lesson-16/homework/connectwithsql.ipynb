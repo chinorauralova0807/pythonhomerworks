{
 "cells": [
  {
   "cell_type": "code",
   "execution_count": 1,
   "metadata": {},
   "outputs": [
    {
     "name": "stdout",
     "output_type": "stream",
     "text": [
      "✅ Successfully connected to SQL Server!\n"
     ]
    }
   ],
   "source": [
    "import pyodbc\n",
    "\n",
    "conn = pyodbc.connect(\n",
    "    'DRIVER={SQL Server};'\n",
    "    'SERVER=WIN-9VLDKOCVBE4;'\n",
    "    'DATABASE=AdventureWorks2022;'\n",
    "    'Trusted_Connection=yes;' \n",
    ")\n",
    "\n",
    "cursor = conn.cursor()\n",
    "\n",
    "print(\"✅ Successfully connected to SQL Server!\")\n"
   ]
  },
  {
   "cell_type": "code",
   "execution_count": 3,
   "metadata": {},
   "outputs": [
    {
     "name": "stdout",
     "output_type": "stream",
     "text": [
      "✅ Data successfully exported to exported_data.csv\n"
     ]
    }
   ],
   "source": [
    "import pyodbc\n",
    "import csv\n",
    "\n",
    "conn = pyodbc.connect(\n",
    "    'DRIVER={SQL Server};'\n",
    "    'SERVER=WIN-9VLDKOCVBE4;'\n",
    "    'DATABASE=AdventureWorks2022;'\n",
    "    'Trusted_Connection=yes;'\n",
    ")\n",
    "\n",
    "cursor = conn.cursor()\n",
    "\n",
    "table_name = \"Person.Address\"\n",
    "\n",
    "query = f\"SELECT * FROM {table_name}\"\n",
    "cursor.execute(query)\n",
    "\n",
    "columns = [column[0] for column in cursor.description]\n",
    "\n",
    "rows = cursor.fetchall()\n",
    "\n",
    "csv_filename = \"exported_data.csv\"\n",
    "\n",
    "with open(csv_filename, mode='w', newline='', encoding='utf-8') as file:\n",
    "    writer = csv.writer(file)\n",
    "    \n",
    "    writer.writerow(columns)\n",
    "    \n",
    "    writer.writerows(rows)\n",
    "\n",
    "print(f\"✅ Data successfully exported to {csv_filename}\")\n",
    "\n",
    "cursor.close()\n",
    "conn.close()\n"
   ]
  },
  {
   "cell_type": "code",
   "execution_count": null,
   "metadata": {},
   "outputs": [],
   "source": []
  }
 ],
 "metadata": {
  "kernelspec": {
   "display_name": "Python 3",
   "language": "python",
   "name": "python3"
  },
  "language_info": {
   "codemirror_mode": {
    "name": "ipython",
    "version": 3
   },
   "file_extension": ".py",
   "mimetype": "text/x-python",
   "name": "python",
   "nbconvert_exporter": "python",
   "pygments_lexer": "ipython3",
   "version": "3.12.8"
  }
 },
 "nbformat": 4,
 "nbformat_minor": 2
}
