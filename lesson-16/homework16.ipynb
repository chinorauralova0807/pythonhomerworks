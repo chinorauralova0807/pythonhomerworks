{
 "cells": [
  {
   "cell_type": "code",
   "execution_count": null,
   "metadata": {},
   "outputs": [],
   "source": [
    "#1. Write a Python program to create multiple threads and print their names."
   ]
  },
  {
   "cell_type": "code",
   "execution_count": 1,
   "metadata": {},
   "outputs": [
    {
     "name": "stdout",
     "output_type": "stream",
     "text": [
      "Current thread name: Thread-3 (thread_names)\n",
      "Current thread name: Thread-4 (thread_names)\n",
      "Current thread name: Thread-5 (thread_names)\n",
      "Current thread name: Thread-6 (thread_names)\n",
      "Current thread name: Thread-7 (thread_names)\n",
      "Current thread name: Thread-8 (thread_names)\n",
      "Current thread name: Thread-9 (thread_names)\n"
     ]
    }
   ],
   "source": [
    "import threading\n",
    "def thread_names():\n",
    "    print(\"Current thread name:\", threading.current_thread().name)\n",
    "\n",
    "threads=[]\n",
    "for i in range(7):\n",
    "    thread=threading.Thread(target=thread_names)\n",
    "    threads.append(thread)\n",
    "    thread.start()\n",
    "for thread in threads:\n",
    "    thread.join()"
   ]
  },
  {
   "cell_type": "code",
   "execution_count": null,
   "metadata": {},
   "outputs": [],
   "source": [
    "#2. Write a Python program to download multiple files concurrently using threads."
   ]
  },
  {
   "cell_type": "code",
   "execution_count": 17,
   "metadata": {},
   "outputs": [
    {
     "name": "stdout",
     "output_type": "stream",
     "text": [
      "Downloaded: file1.jpg\n",
      "Downloaded: file3.jpg\n",
      "Downloaded: file2.jpg\n",
      "Downloads completed!\n"
     ]
    }
   ],
   "source": [
    "import threading\n",
    "import requests\n",
    "\n",
    "def download(url, filename):\n",
    "    response=requests.get(url)\n",
    "    with open(filename, \"wb\") as f:\n",
    "        f.write(response.content)\n",
    "    print(f\"Downloaded: {filename}\")\n",
    "\n",
    "files_d=[\n",
    "    (\"https://example.com/file1.jpg\", \"file1.jpg\"),\n",
    "    (\"https://example.com/file2.jpg\", \"file2.jpg\"),\n",
    "    (\"https://example.com/file3.jpg\", \"file3.jpg\")\n",
    "]\n",
    "\n",
    "threads=[]\n",
    "for url,filename in files_d:\n",
    "    thread=threading.Thread(target=download, args=(url, filename))\n",
    "    threads.append(thread)\n",
    "    thread.start()\n",
    "\n",
    "for thread in threads:\n",
    "    thread.join()\n",
    "\n",
    "print(\"Downloads completed!\")"
   ]
  },
  {
   "cell_type": "code",
   "execution_count": null,
   "metadata": {},
   "outputs": [],
   "source": [
    "#3. Write a Python program that creates two threads to find and print even \n",
    "# and odd numbers from 30 to 50."
   ]
  },
  {
   "cell_type": "code",
   "execution_count": 14,
   "metadata": {},
   "outputs": [
    {
     "name": "stdout",
     "output_type": "stream",
     "text": [
      "Even number:\n",
      "30 32 34 36 38 40 42 44 46 48 50 \n",
      "Odd number: \n",
      "31 33 35 37 39 41 43 45 47 49 "
     ]
    }
   ],
   "source": [
    "import threading\n",
    "def even_nums():\n",
    "    print(\"Even number:\")\n",
    "    for i in range(30, 51, 2):\n",
    "        print(i, end= \" \")\n",
    "\n",
    "def odd_nums():\n",
    "    print(\"\\nOdd number: \")\n",
    "    for i in range(31, 51, 2):\n",
    "        print(i, end=\" \")\n",
    "\n",
    "e_thread=threading.Thread(target=even_nums)\n",
    "\n",
    "o_thread=threading.Thread(target=odd_nums)\n",
    "\n",
    "e_thread.start()\n",
    "o_thread.start()\n",
    "\n",
    "e_thread.join()\n",
    "o_thread.join()\n",
    "\n",
    "\n",
    "\n"
   ]
  },
  {
   "cell_type": "code",
   "execution_count": null,
   "metadata": {},
   "outputs": [],
   "source": [
    "#4. Write a Python program to calculate the factorial of a number using multiple threads."
   ]
  },
  {
   "cell_type": "code",
   "execution_count": 16,
   "metadata": {},
   "outputs": [
    {
     "name": "stdout",
     "output_type": "stream",
     "text": [
      "Facorial of 5: 120\n",
      "Facorial of 7: 5040\n",
      "Facorial of 10: 3628800\n"
     ]
    }
   ],
   "source": [
    "import threading\n",
    "\n",
    "def factorial(n):\n",
    "    fac=1\n",
    "    for i in range(1, n+1):\n",
    "        fac *=i\n",
    "    print(f\"Facorial of {n}: {fac}\")\n",
    "\n",
    "numbers=[5, 7, 10]\n",
    "threads=[]\n",
    "\n",
    "for num in numbers:\n",
    "    thread=threading.Thread(target=factorial, args=(num, ))\n",
    "    threads.append(thread)\n",
    "    thread.start()\n",
    "\n",
    "for thread in threads:\n",
    "    thread.join()\n",
    "\n"
   ]
  },
  {
   "cell_type": "code",
   "execution_count": null,
   "metadata": {},
   "outputs": [],
   "source": [
    "#5 Write a Python program to implement a multi-threaded quicksort algorithm."
   ]
  },
  {
   "cell_type": "code",
   "execution_count": 22,
   "metadata": {},
   "outputs": [
    {
     "name": "stdout",
     "output_type": "stream",
     "text": [
      "Sorted array: [0, 0, 1, 3, 4, 9, 27, 38, 43, 87, 99]\n"
     ]
    }
   ],
   "source": [
    "import threading\n",
    "def quicksort(arr):\n",
    "    if len(arr)<=1:\n",
    "        return arr\n",
    "    \n",
    "    pivot=arr[len(arr) // 2]\n",
    "    left=[i for i in arr if i<pivot]\n",
    "    middle=[i for i in arr if i==pivot]\n",
    "    right=[i for i in arr if i>pivot]\n",
    "\n",
    "    results={}\n",
    "    def sort_left():\n",
    "        results[\"left\"]=quicksort(left)\n",
    "\n",
    "    def sort_right():\n",
    "        results[\"right\"]=quicksort(right)\n",
    "\n",
    "    left_thread=threading.Thread(target=sort_left)\n",
    "    right_thread=threading.Thread(target=sort_right)\n",
    "\n",
    "    left_thread.start()\n",
    "    right_thread.start()\n",
    "\n",
    "    left_thread.join()\n",
    "    right_thread.join()\n",
    "\n",
    "    return results[\"left\"]+middle+results[\"right\"]\n",
    "\n",
    "arr=[38,27,43,3,9,0,1,0,4,87,99]\n",
    "sorted_arr=quicksort(arr)\n",
    "print(\"Sorted array:\", sorted_arr)\n",
    "\n",
    "\n",
    "    \n",
    "\n"
   ]
  },
  {
   "cell_type": "code",
   "execution_count": null,
   "metadata": {},
   "outputs": [],
   "source": [
    "#6. Write a Python program that performs concurrent HTTP requests using threads."
   ]
  },
  {
   "cell_type": "code",
   "execution_count": 23,
   "metadata": {},
   "outputs": [
    {
     "name": "stdout",
     "output_type": "stream",
     "text": [
      "Response from https://www.example.com: 200\n",
      "Response from https://www.google.com: 200\n",
      "Response from https://www.wikipedia.org: 200\n",
      "Response from https://www.python.org: 200\n"
     ]
    }
   ],
   "source": [
    "import requests\n",
    "import threading\n",
    "def get_request(url):\n",
    "    response=requests.get(url)\n",
    "    print(f\"Response from {url}: {response.status_code}\")\n",
    "\n",
    "urls= [\n",
    "    \"https://www.example.com\",\n",
    "    \"https://www.google.com\",\n",
    "    \"https://www.wikipedia.org\",\n",
    "    \"https://www.python.org\"\n",
    "]\n",
    "\n",
    "threads=[]\n",
    "for url in urls:\n",
    "    thread=threading.Thread(target=get_request,args=(url, ))\n",
    "    thread.start()\n",
    "    threads.append(thread)\n",
    "\n",
    "for thread in threads:\n",
    "    thread.join()"
   ]
  }
 ],
 "metadata": {
  "kernelspec": {
   "display_name": "Python 3",
   "language": "python",
   "name": "python3"
  },
  "language_info": {
   "codemirror_mode": {
    "name": "ipython",
    "version": 3
   },
   "file_extension": ".py",
   "mimetype": "text/x-python",
   "name": "python",
   "nbconvert_exporter": "python",
   "pygments_lexer": "ipython3",
   "version": "3.12.8"
  }
 },
 "nbformat": 4,
 "nbformat_minor": 2
}
