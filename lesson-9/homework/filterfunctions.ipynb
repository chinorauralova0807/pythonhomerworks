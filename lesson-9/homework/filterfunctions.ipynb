
FILTER FUNCTIONS

Write a Python function that filters out even numbers from a list of integers using the filter function.
numbers =[1, 2, 3, 4, 5, 6, 7, 8, 9, 10]

def odd_nums(numbers):
    return list(filter(lambda x: x % 2 != 0, numbers))

filtered_numbers = odd_nums(numbers)
print(filtered_numbers)
[1, 3, 5, 7, 9]
Write a Python program that uses the filter function to extract all uppercase letters from a list of mixed-case strings.
letter=['Hello', 'world', 'Python', 'Is', 'Awesome']
def uppercase_letter(letter):
    return list(filter(lambda x: x.isupper(),''.join(letter)))

result=uppercase_letter(letter)
print(result)
['H', 'P', 'I', 'A']
Write a Python function that filters out all elements less than or equal than a specified value from a list of numbers using the filter function.
def filters_less_than_or_equal(numbers, value):
    return list(filter(lambda x: x>value,numbers))

numbers=[1,2,3,4,56,8,9,3,12,13,14,16]
value=7

filtered_numbers=filters_less_than_or_equal(numbers, value)
print(filtered_numbers)
[56, 8, 9, 12, 13, 14, 16]
Write a Python program that creates a list of names and uses the filter function to extract names that start with a vowel (A, E, I, O, U).
names=['Chinora','Rayxon','Nigina','Amira','Iroda','Sevinch','Oysanam','Umida']
def extract_names(names):
    return list(filter(lambda x: x[0].lower() in 'aeiou', names))
filtered_names=extract_names(names)
print(filtered_names)
    
['Amira', 'Iroda', 'Oysanam', 'Umida']
Write a Python function that filters out all empty strings from a list of strings using the filter function.
strings = ["Today", "", "Weather", "", "", "is", "", "rainy"]
def filter_empty_strings(strings):
    return list(filter(lambda x: x!= "", strings))


resulst=filter_empty_strings(strings)
print(resulst)
['Today', '', 'Weather', '', '', 'is', '', 'rainy']
['Today', 'Weather', 'is', 'rainy']
Write a Python program that creates a list of dictionaries containing student information (name, age, grade) and uses the filter function to extract students with a grade greater than or equal to 95.
student_information={'name':'Lily','age':20,'grade':98},
{'name':'Rose','age':23,'grade':100},
{'name':'Zahro','age':28,'grade':100},
{'name':'Alice','age': 19,'grade':76},
{'name':'Bob','age': 22,'grade':88}

def greater_than_or_equal(student_information):
    return list(filter(lambda x: x['grade']>=95, student_information))

result=greater_than_or_equal(student_information)
print(result)
[{'name': 'Lily', 'age': 20, 'grade': 98}]
Write a Python program that filters out prime numbers from a list of integers using the filter function.
integers=[1, 2, 3, 4, 5, 6, 7, 8, 9, 10, 11, 12, 13, 14, 15, 16, 17]
def is_prime(n):
    if n<=1:
        return False
    for i in range(2,n):
        if n%i==0:
            return False
    return True

def filter_non_prime(integers):
    return list(filter(lambda x: not is_prime(x),integers))

result=filter_non_prime(integers)
print(result)
    
[1, 4, 6, 8, 9, 10, 12, 14, 15, 16]
Write a Python program that creates a list of words and use the filter function to extract words that contain more than five letters.
words=['apple','banana','cherry','avacado','lemon','date','grape']
def five_letters(words):
    return list(filter(lambda x: len(x)>5, words))
result=five_letters(words)
print(result)
['banana', 'cherry', 'avacado']
Write a Python function that filters out elements from a list of strings containing a specific substring using the filter function.
strings=['apple','banana','cherry','date','avacado','lemon']
substring='err'
def filter_substring(strings, substring):
    return list(filter(lambda x: substring  in x, strings))

result=filter_substring(strings,substring)
print(result)
['cherry']
Write a Python program that implements a Python program that filters out dates (in the format "YYYY-MM-DD") that are in the future using the filter function.
from datetime import datetime
def filter_future_dates(dates):
    current_date=datetime.now().date()
    return list(filter(lambda date:datetime.strptime))
 
Write a Python program that creates a list of tuples, each containing a city name and its population. Use the filter function to extract cities with a population greater than 2 million.
cities = [
    ("New York", 75133),
    ("Los Angeles", 3792621),
    ("Chicago", 2695598),
    ("London", 8982000),
    ("Tokyo", 13929286),
    ("Cairo", 9500000),
    ("Delhi", 30290936),
    ("Shanghai", 24256800)
]


def filter_population(cities):
    return list(filter(lambda city:city[1]  > 2000000, cities))

result=filter_population(cities)
print(result)
[('Los Angeles', 3792621), ('Chicago', 2695598), ('London', 8982000), ('Tokyo', 13929286), ('Cairo', 9500000), ('Delhi', 30290936), ('Shanghai', 24256800)]
                 MAP
                 
 
