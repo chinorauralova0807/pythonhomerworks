{
 "cells": [
  {
   "cell_type": "markdown",
   "metadata": {},
   "source": [
    "FILTER FUNCTIONS"
   ]
  },
  {
   "cell_type": "markdown",
   "metadata": {},
   "source": [
    "1. Write a Python function that filters out even numbers from a list of integers using the filter function."
   ]
  },
  {
   "cell_type": "code",
   "execution_count": 1,
   "metadata": {},
   "outputs": [
    {
     "name": "stdout",
     "output_type": "stream",
     "text": [
      "[1, 3, 5, 7, 9]\n"
     ]
    }
   ],
   "source": [
    "numbers =[1, 2, 3, 4, 5, 6, 7, 8, 9, 10]\n",
    "\n",
    "def odd_nums(numbers):\n",
    "    return list(filter(lambda x: x % 2 != 0, numbers))\n",
    "\n",
    "filtered_numbers = odd_nums(numbers)\n",
    "print(filtered_numbers)"
   ]
  },
  {
   "cell_type": "markdown",
   "metadata": {},
   "source": [
    "2. Write a Python program that uses the filter function to extract all uppercase letters from a list of mixed-case strings."
   ]
  },
  {
   "cell_type": "code",
   "execution_count": 4,
   "metadata": {},
   "outputs": [
    {
     "name": "stdout",
     "output_type": "stream",
     "text": [
      "['H', 'P', 'I', 'A']\n"
     ]
    }
   ],
   "source": [
    "letter=['Hello', 'world', 'Python', 'Is', 'Awesome']\n",
    "def uppercase_letter(letter):\n",
    "    return list(filter(lambda x: x.isupper(),''.join(letter)))\n",
    "\n",
    "result=uppercase_letter(letter)\n",
    "print(result)\n"
   ]
  },
  {
   "cell_type": "markdown",
   "metadata": {},
   "source": [
    "3. Write a Python function that filters out all elements less than or equal than a specified value from a list of numbers using the filter function."
   ]
  },
  {
   "cell_type": "code",
   "execution_count": 5,
   "metadata": {},
   "outputs": [
    {
     "name": "stdout",
     "output_type": "stream",
     "text": [
      "[56, 8, 9, 12, 13, 14, 16]\n"
     ]
    }
   ],
   "source": [
    "def filters_less_than_or_equal(numbers, value):\n",
    "    return list(filter(lambda x: x>value,numbers))\n",
    "\n",
    "numbers=[1,2,3,4,56,8,9,3,12,13,14,16]\n",
    "value=7\n",
    "\n",
    "filtered_numbers=filters_less_than_or_equal(numbers, value)\n",
    "print(filtered_numbers)"
   ]
  },
  {
   "cell_type": "markdown",
   "metadata": {},
   "source": [
    "4. Write a Python program that creates a list of names and uses the filter function to extract names that start with a vowel (A, E, I, O, U)."
   ]
  },
  {
   "cell_type": "code",
   "execution_count": 6,
   "metadata": {},
   "outputs": [
    {
     "name": "stdout",
     "output_type": "stream",
     "text": [
      "['Amira', 'Iroda', 'Oysanam', 'Umida']\n"
     ]
    }
   ],
   "source": [
    "names=['Chinora','Rayxon','Nigina','Amira','Iroda','Sevinch','Oysanam','Umida']\n",
    "def extract_names(names):\n",
    "    return list(filter(lambda x: x[0].lower() in 'aeiou', names))\n",
    "filtered_names=extract_names(names)\n",
    "print(filtered_names)\n",
    "    "
   ]
  },
  {
   "cell_type": "markdown",
   "metadata": {},
   "source": [
    "5. Write a Python function that filters out all empty strings from a list of strings using the filter function."
   ]
  },
  {
   "cell_type": "code",
   "execution_count": 8,
   "metadata": {},
   "outputs": [
    {
     "name": "stdout",
     "output_type": "stream",
     "text": [
      "['Today', '', 'Weather', '', '', 'is', '', 'rainy']\n",
      "['Today', 'Weather', 'is', 'rainy']\n"
     ]
    }
   ],
   "source": [
    "strings = [\"Today\", \"\", \"Weather\", \"\", \"\", \"is\", \"\", \"rainy\"]\n",
    "def filter_empty_strings(strings):\n",
    "    return list(filter(lambda x: x!= \"\", strings))\n",
    "\n",
    "\n",
    "resulst=filter_empty_strings(strings)\n",
    "print(resulst)\n"
   ]
  },
  {
   "cell_type": "markdown",
   "metadata": {},
   "source": [
    "6. Write a Python program that creates a list of dictionaries containing student information (name, age, grade) and uses the filter function to extract students with a grade greater than or equal to 95."
   ]
  },
  {
   "cell_type": "code",
   "execution_count": 8,
   "metadata": {},
   "outputs": [
    {
     "name": "stdout",
     "output_type": "stream",
     "text": [
      "[{'name': 'Lily', 'age': 20, 'grade': 98}]\n"
     ]
    }
   ],
   "source": [
    "student_information={'name':'Lily','age':20,'grade':98},\n",
    "{'name':'Rose','age':23,'grade':100},\n",
    "{'name':'Zahro','age':28,'grade':100},\n",
    "{'name':'Alice','age': 19,'grade':76},\n",
    "{'name':'Bob','age': 22,'grade':88}\n",
    "\n",
    "def greater_than_or_equal(student_information):\n",
    "    return list(filter(lambda x: x['grade']>=95, student_information))\n",
    "\n",
    "result=greater_than_or_equal(student_information)\n",
    "print(result)\n"
   ]
  },
  {
   "cell_type": "markdown",
   "metadata": {},
   "source": [
    "7. Write a Python program that filters out prime numbers from a list of integers using the filter function."
   ]
  },
  {
   "cell_type": "code",
   "execution_count": 13,
   "metadata": {},
   "outputs": [
    {
     "name": "stdout",
     "output_type": "stream",
     "text": [
      "[1, 4, 6, 8, 9, 10, 12, 14, 15, 16]\n"
     ]
    }
   ],
   "source": [
    "integers=[1, 2, 3, 4, 5, 6, 7, 8, 9, 10, 11, 12, 13, 14, 15, 16, 17]\n",
    "def is_prime(n):\n",
    "    if n<=1:\n",
    "        return False\n",
    "    for i in range(2,n):\n",
    "        if n%i==0:\n",
    "            return False\n",
    "    return True\n",
    "\n",
    "def filter_non_prime(integers):\n",
    "    return list(filter(lambda x: not is_prime(x),integers))\n",
    "\n",
    "result=filter_non_prime(integers)\n",
    "print(result)\n",
    "    "
   ]
  },
  {
   "cell_type": "markdown",
   "metadata": {},
   "source": [
    "8. Write a Python program that creates a list of words and use the filter function to extract words that contain more than five letters.\n"
   ]
  },
  {
   "cell_type": "code",
   "execution_count": 14,
   "metadata": {},
   "outputs": [
    {
     "name": "stdout",
     "output_type": "stream",
     "text": [
      "['banana', 'cherry', 'avacado']\n"
     ]
    }
   ],
   "source": [
    "words=['apple','banana','cherry','avacado','lemon','date','grape']\n",
    "def five_letters(words):\n",
    "    return list(filter(lambda x: len(x)>5, words))\n",
    "result=five_letters(words)\n",
    "print(result)"
   ]
  },
  {
   "cell_type": "markdown",
   "metadata": {},
   "source": [
    "9. Write a Python function that filters out elements from a list of strings containing a specific substring using the filter function."
   ]
  },
  {
   "cell_type": "code",
   "execution_count": 17,
   "metadata": {},
   "outputs": [
    {
     "name": "stdout",
     "output_type": "stream",
     "text": [
      "['cherry']\n"
     ]
    }
   ],
   "source": [
    "strings=['apple','banana','cherry','date','avacado','lemon']\n",
    "substring='err'\n",
    "def filter_substring(strings, substring):\n",
    "    return list(filter(lambda x: substring  in x, strings))\n",
    "\n",
    "result=filter_substring(strings,substring)\n",
    "print(result)"
   ]
  },
  {
   "cell_type": "markdown",
   "metadata": {},
   "source": [
    "10. Write a Python program that implements a Python program that filters out dates (in the format \"YYYY-MM-DD\") that are in the future using the filter function."
   ]
  },
  {
   "cell_type": "code",
   "execution_count": null,
   "metadata": {},
   "outputs": [],
   "source": [
    "from datetime import datetime\n",
    "def filter_future_dates(dates):\n",
    "    current_date=datetime.now().date()\n",
    "    return list(filter(lambda date:datetime.strptime))"
   ]
  },
  {
   "cell_type": "code",
   "execution_count": null,
   "metadata": {},
   "outputs": [],
   "source": []
  },
  {
   "cell_type": "markdown",
   "metadata": {},
   "source": [
    "11. Write a Python program that creates a list of tuples, each containing a city name and its population. Use the filter function to extract cities with a population greater than 2 million."
   ]
  },
  {
   "cell_type": "code",
   "execution_count": 19,
   "metadata": {},
   "outputs": [
    {
     "name": "stdout",
     "output_type": "stream",
     "text": [
      "[('Los Angeles', 3792621), ('Chicago', 2695598), ('London', 8982000), ('Tokyo', 13929286), ('Cairo', 9500000), ('Delhi', 30290936), ('Shanghai', 24256800)]\n"
     ]
    }
   ],
   "source": [
    "cities = [\n",
    "    (\"New York\", 75133),\n",
    "    (\"Los Angeles\", 3792621),\n",
    "    (\"Chicago\", 2695598),\n",
    "    (\"London\", 8982000),\n",
    "    (\"Tokyo\", 13929286),\n",
    "    (\"Cairo\", 9500000),\n",
    "    (\"Delhi\", 30290936),\n",
    "    (\"Shanghai\", 24256800)\n",
    "]\n",
    "\n",
    "\n",
    "def filter_population(cities):\n",
    "    return list(filter(lambda city:city[1]  > 2000000, cities))\n",
    "\n",
    "result=filter_population(cities)\n",
    "print(result)"
   ]
  },
  {
   "cell_type": "markdown",
   "metadata": {},
   "source": [
    "                     MAP\n",
    "                     "
   ]
  },
  {
   "cell_type": "code",
   "execution_count": null,
   "metadata": {},
   "outputs": [],
   "source": [
    " "
   ]
  }
 ],
 "metadata": {
  "kernelspec": {
   "display_name": "Python 3",
   "language": "python",
   "name": "python3"
  },
  "language_info": {
   "codemirror_mode": {
    "name": "ipython",
    "version": 3
   },
   "file_extension": ".py",
   "mimetype": "text/x-python",
   "name": "python",
   "nbconvert_exporter": "python",
   "pygments_lexer": "ipython3",
   "version": "3.12.8"
  }
 },
 "nbformat": 4,
 "nbformat_minor": 2
}
