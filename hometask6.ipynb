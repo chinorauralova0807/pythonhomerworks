{
 "cells": [
  {
   "cell_type": "markdown",
   "metadata": {},
   "source": [
    "RETURN UNCOMMON ELEMENTS OF LISTS"
   ]
  },
  {
   "cell_type": "code",
   "execution_count": 6,
   "metadata": {},
   "outputs": [
    {
     "name": "stdout",
     "output_type": "stream",
     "text": [
      "[1, 1, 3, 4]\n",
      "[1, 2, 3, 4, 5, 6]\n",
      "[2, 2, 5]\n"
     ]
    }
   ],
   "source": [
    "def uncommon_elements(list1,list2):\n",
    "    uncommon=[]\n",
    "    for num in list1:\n",
    "        if num not in list2:\n",
    "            uncommon.append(num)\n",
    "    for num in list2:\n",
    "        if num not in list1:\n",
    "            uncommon.append(num)\n",
    "    return uncommon\n",
    "print(uncommon_elements([1,1,2],[2,3,4]))\n",
    "\n",
    "print(uncommon_elements([1,2,3],[4,5,6]))\n",
    "\n",
    "print(uncommon_elements([1,1,2,3,4,2],[1,3,4,5]))\n",
    "    \n"
   ]
  },
  {
   "cell_type": "markdown",
   "metadata": {},
   "source": [
    "txt nomli string saqlovchi o'zgaruvchi berilgan.txt dagi har uchinchi belgidan keyin pastki chiziqcha (underscore) qo'yilsin.Agar belgi unli harf yoki orqasidan ostki chiziqcha keyingi harfdan keyin qo'yilsin.Agar belgi satrdagi ohirgi belgi bo'lsa chiziqcha qo'yilmasin."
   ]
  },
  {
   "cell_type": "code",
   "execution_count": 11,
   "metadata": {},
   "outputs": [
    {
     "name": "stdout",
     "output_type": "stream",
     "text": [
      "hel_lo\n",
      "ass_alom\n",
      "abc_abc_dab_cdeabc_def_abc_def_g\n"
     ]
    }
   ],
   "source": [
    "def add_underscore(txt):\n",
    "    vowels='aeiouAEIOU'\n",
    "    result=[]\n",
    "    count =0\n",
    "\n",
    "    for i in range(len(txt)):\n",
    "        result.append(txt[i])\n",
    "        count+=1\n",
    "\n",
    "        if count==3:\n",
    "            if txt[i] not in vowels:\n",
    "                if i+1<len(txt):\n",
    "                    result.append(\"_\")\n",
    "            count=0\n",
    "    return \"\".join(result)\n",
    "\n",
    "print(add_underscore(\"hello\"))\n",
    "\n",
    "print(add_underscore(\"assalom\"))\n",
    "\n",
    "print(add_underscore(\"abcabcdabcdeabcdefabcdefg\"))\n"
   ]
  },
  {
   "cell_type": "code",
   "execution_count": 14,
   "metadata": {},
   "outputs": [
    {
     "name": "stdout",
     "output_type": "stream",
     "text": [
      "abc_abc_dab_cdeabc_def_abc_def_g\n"
     ]
    }
   ],
   "source": [
    "print(add_underscore(\"abcabcdabcdeabcdefabcdefg\"))\n"
   ]
  },
  {
   "cell_type": "code",
   "execution_count": null,
   "metadata": {},
   "outputs": [],
   "source": []
  }
 ],
 "metadata": {
  "kernelspec": {
   "display_name": "Python 3",
   "language": "python",
   "name": "python3"
  },
  "language_info": {
   "codemirror_mode": {
    "name": "ipython",
    "version": 3
   },
   "file_extension": ".py",
   "mimetype": "text/x-python",
   "name": "python",
   "nbconvert_exporter": "python",
   "pygments_lexer": "ipython3",
   "version": "3.12.8"
  }
 },
 "nbformat": 4,
 "nbformat_minor": 2
}
