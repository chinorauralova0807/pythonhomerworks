{
 "cells": [
  {
   "cell_type": "code",
   "execution_count": 2,
   "metadata": {},
   "outputs": [
    {
     "name": "stdout",
     "output_type": "stream",
     "text": [
      "  first_name  age           City\n",
      "0      Alice   25       New York\n",
      "1        Bob   30  San Francisco\n",
      "2    Charlie   35    Los Angeles\n",
      "3      David   40        Chicago\n"
     ]
    }
   ],
   "source": [
    "#the first homework\n",
    "import pandas as pd\n",
    "\n",
    "data= {\n",
    "    'First Name': ['Alice', 'Bob', 'Charlie', 'David'],\n",
    "    'Age': [25, 30, 35, 40],\n",
    "    'City': ['New York', 'San Francisco', 'Los Angeles', 'Chicago']\n",
    "}\n",
    "df=pd.DataFrame(data)\n",
    "\n",
    "# 1. Rename columns\n",
    "df.rename(columns={'First Name': 'first_name', 'Age': 'age'}, inplace=True)\n",
    "print(df)\n"
   ]
  },
  {
   "cell_type": "code",
   "execution_count": 3,
   "metadata": {},
   "outputs": [
    {
     "name": "stdout",
     "output_type": "stream",
     "text": [
      "  first_name  age           City\n",
      "0      Alice   25       New York\n",
      "1        Bob   30  San Francisco\n",
      "2    Charlie   35    Los Angeles\n"
     ]
    }
   ],
   "source": [
    "# 2. Print the first 3 rows\n",
    "print(df.head(3))\n"
   ]
  },
  {
   "cell_type": "code",
   "execution_count": 4,
   "metadata": {},
   "outputs": [
    {
     "name": "stdout",
     "output_type": "stream",
     "text": [
      "32.5\n"
     ]
    }
   ],
   "source": [
    "# 3. Find the mean age\n",
    "mean_age=df['age'].mean()\n",
    "print(mean_age)"
   ]
  },
  {
   "cell_type": "code",
   "execution_count": 5,
   "metadata": {},
   "outputs": [
    {
     "name": "stdout",
     "output_type": "stream",
     "text": [
      "  first_name           City\n",
      "0      Alice       New York\n",
      "1        Bob  San Francisco\n",
      "2    Charlie    Los Angeles\n",
      "3      David        Chicago\n"
     ]
    }
   ],
   "source": [
    "# 4. Select and print only 'Name' and 'City' columns\n",
    "print(df[['first_name', 'City']])"
   ]
  },
  {
   "cell_type": "code",
   "execution_count": 6,
   "metadata": {},
   "outputs": [
    {
     "name": "stdout",
     "output_type": "stream",
     "text": [
      "  first_name  age           City  Salary\n",
      "0      Alice   25       New York   75282\n",
      "1        Bob   30  San Francisco   67050\n",
      "2    Charlie   35    Los Angeles   40255\n",
      "3      David   40        Chicago   46836\n"
     ]
    }
   ],
   "source": [
    "import numpy as np\n",
    "# 5. Add a new column 'Salary' with random values\n",
    "df['Salary']=np.random.randint(40000, 100000, size=len(df))\n",
    "print(df)"
   ]
  },
  {
   "cell_type": "code",
   "execution_count": 7,
   "metadata": {},
   "outputs": [
    {
     "name": "stdout",
     "output_type": "stream",
     "text": [
      "             age        Salary\n",
      "count   4.000000      4.000000\n",
      "mean   32.500000  57355.750000\n",
      "std     6.454972  16516.958081\n",
      "min    25.000000  40255.000000\n",
      "25%    28.750000  45190.750000\n",
      "50%    32.500000  56943.000000\n",
      "75%    36.250000  69108.000000\n",
      "max    40.000000  75282.000000\n"
     ]
    }
   ],
   "source": [
    "# 6. Display summary statistics\n",
    "print(df.describe())"
   ]
  },
  {
   "cell_type": "code",
   "execution_count": 8,
   "metadata": {},
   "outputs": [],
   "source": [
    "#The second homework\n",
    "#1. Creating the DataFrame\n",
    "sales_and_expenses=pd.DataFrame({\n",
    "    'Month':['Jan', 'Feb', 'Mar', 'Apr'],\n",
    "    'Sales':[5000, 6000, 7500, 8000],\n",
    "    'Expenses':[3000, 3500, 4000, 4500]\n",
    "})"
   ]
  },
  {
   "cell_type": "code",
   "execution_count": 9,
   "metadata": {},
   "outputs": [
    {
     "name": "stdout",
     "output_type": "stream",
     "text": [
      "Maximum sales: 8000\n",
      "Maximum expenses 4500\n"
     ]
    }
   ],
   "source": [
    "# 2. Calculate maximum sales and expenses\n",
    "max_sales=sales_and_expenses['Sales'].max()\n",
    "max_expenses=sales_and_expenses['Expenses'].max()\n",
    "\n",
    "print(\"Maximum sales:\", max_sales)\n",
    "print(\"Maximum expenses\", max_expenses)"
   ]
  },
  {
   "cell_type": "code",
   "execution_count": 10,
   "metadata": {},
   "outputs": [
    {
     "name": "stdout",
     "output_type": "stream",
     "text": [
      "Minimum sales: 5000\n",
      "Minimum expenses 3000\n"
     ]
    }
   ],
   "source": [
    "# 3. Calculate minimum sales and expenses\n",
    "min_sales=sales_and_expenses['Sales'].min()\n",
    "min_expenses=sales_and_expenses['Expenses'].min()\n",
    "\n",
    "print(\"Minimum sales:\", min_sales)\n",
    "print(\"Minimum expenses\", min_expenses)"
   ]
  },
  {
   "cell_type": "code",
   "execution_count": 11,
   "metadata": {},
   "outputs": [
    {
     "name": "stdout",
     "output_type": "stream",
     "text": [
      "Average sales: 6625.0\n",
      "Average expenses 3750.0\n"
     ]
    }
   ],
   "source": [
    "# 4. Calculate average sales and expenses\n",
    "mean_sales=sales_and_expenses['Sales'].mean()\n",
    "mean_expenses=sales_and_expenses['Expenses'].mean()\n",
    "\n",
    "print(\"Average sales:\", mean_sales)\n",
    "print(\"Average expenses\", mean_expenses)"
   ]
  },
  {
   "cell_type": "code",
   "execution_count": 12,
   "metadata": {},
   "outputs": [
    {
     "name": "stdout",
     "output_type": "stream",
     "text": [
      "   BusinessEntityID  SalesYear  CurrentQuota  PreviousQuota\n",
      "0               275       2005      367000.0            NaN\n",
      "1               275       2005      556000.0       367000.0\n",
      "2               275       2006      502000.0       556000.0\n",
      "3               275       2006      550000.0       502000.0\n",
      "5               275       2006     1324000.0       550000.0\n",
      "4               275       2006     1429000.0      1324000.0\n"
     ]
    }
   ],
   "source": [
    "# The third homework\n",
    "#the first puzzle\n",
    "import pandas as pd\n",
    "data={\n",
    "    'BusinessEntityID': [275, 275, 275, 275, 275, 275],\n",
    "    'SalesYear': [2005, 2005, 2006, 2006, 2006, 2006],\n",
    "    'CurrentQuota': [367000.00, 556000.00, 502000.00, 550000.00, 1429000.00, 1324000.00]\n",
    "}\n",
    "\n",
    "df=pd.DataFrame(data)\n",
    "\n",
    "df=df.sort_values(by=['BusinessEntityID', 'SalesYear', 'CurrentQuota'])\n",
    "df['PreviousQuota']=df.groupby('BusinessEntityID')['CurrentQuota'].shift(1)\n",
    "print(df)"
   ]
  },
  {
   "cell_type": "code",
   "execution_count": 13,
   "metadata": {},
   "outputs": [
    {
     "name": "stdout",
     "output_type": "stream",
     "text": [
      "   BusinessEntityID  SalesYear  CurrentQuota  NextQuota\n",
      "0               275       2005      367000.0   556000.0\n",
      "1               275       2005      556000.0   502000.0\n",
      "2               275       2006      502000.0   550000.0\n",
      "3               275       2006      550000.0  1324000.0\n",
      "5               275       2006     1324000.0  1429000.0\n",
      "4               275       2006     1429000.0        NaN\n"
     ]
    }
   ],
   "source": [
    "#the second puzzle\n",
    "df=pd.DataFrame(data)\n",
    "\n",
    "df=df.sort_values(by=['BusinessEntityID', 'SalesYear', 'CurrentQuota'])\n",
    "df['NextQuota']=df.groupby('BusinessEntityID')['CurrentQuota'].shift(-1)\n",
    "print(df)"
   ]
  },
  {
   "cell_type": "code",
   "execution_count": 14,
   "metadata": {},
   "outputs": [
    {
     "name": "stdout",
     "output_type": "stream",
     "text": [
      "   EmpId  EmpName  BirthDate\n",
      "2      3  Parveen 1977-05-07\n",
      "4      5   Ramesh 1983-05-09\n"
     ]
    }
   ],
   "source": [
    "#the the third puzzle\n",
    "data = {\n",
    "    'EmpId': [1, 2, 3, 4, 5],\n",
    "    'EmpName': ['Pawan', 'Zuzu', 'Parveen', 'Mahesh', 'Ramesh'],\n",
    "    'BirthDate': pd.to_datetime(['1983-12-04', '1986-11-28', '1977-05-07', '1983-01-13', '1983-05-09'])\n",
    "}\n",
    "\n",
    "df=pd.DataFrame(data)\n",
    "month_day_df=df[(df['BirthDate'].dt.month==5) & (df['BirthDate'].dt.day.between(7, 15))]\n",
    "print(month_day_df)"
   ]
  },
  {
   "cell_type": "code",
   "execution_count": 17,
   "metadata": {},
   "outputs": [
    {
     "name": "stdout",
     "output_type": "stream",
     "text": [
      "  MName\n",
      "1     B\n"
     ]
    }
   ],
   "source": [
    "#the 4th puzzle\n",
    "import pandas as pd\n",
    "data = {\n",
    "    'MName': ['A', 'A', 'B', 'B', 'D', 'E'],\n",
    "    'AName': ['Amitabh', 'Vinod', 'Amitabh', 'Vinod', 'Amitabh', 'Vinod'],\n",
    "    'Roles': ['Actor', 'Villan', 'Actor', 'Actor', 'Actor', 'Actor']\n",
    "}\n",
    "\n",
    "df=pd.DataFrame(data)\n",
    "actors_dff=df[df['Roles']=='Actor']\n",
    "\n",
    "movies_both=(\n",
    "    actors_dff.groupby('MName')['AName'].apply(set).reset_index()\n",
    ")\n",
    "\n",
    "result=movies_both[movies_both['AName'].apply(lambda x: {'Amitabh', 'Vinod'}.issubset(x))]\n",
    "print(result[['MName']])"
   ]
  },
  {
   "cell_type": "code",
   "execution_count": 18,
   "metadata": {},
   "outputs": [
    {
     "name": "stdout",
     "output_type": "stream",
     "text": [
      "   ID Name Typed\n",
      "0   1    P     Q\n"
     ]
    }
   ],
   "source": [
    "#the 5th puzzle\n",
    "data = {\n",
    "    'ID': [1, 1],\n",
    "    'Name': ['P', None],\n",
    "    'Typed': [None, 'Q']\n",
    "}\n",
    "\n",
    "df = pd.DataFrame(data)\n",
    "clean_df=df.groupby('ID', as_index=False).first()\n",
    "print(clean_df)"
   ]
  },
  {
   "cell_type": "code",
   "execution_count": null,
   "metadata": {},
   "outputs": [],
   "source": []
  }
 ],
 "metadata": {
  "kernelspec": {
   "display_name": "Python 3",
   "language": "python",
   "name": "python3"
  },
  "language_info": {
   "codemirror_mode": {
    "name": "ipython",
    "version": 3
   },
   "file_extension": ".py",
   "mimetype": "text/x-python",
   "name": "python",
   "nbconvert_exporter": "python",
   "pygments_lexer": "ipython3",
   "version": "3.12.8"
  }
 },
 "nbformat": 4,
 "nbformat_minor": 2
}
