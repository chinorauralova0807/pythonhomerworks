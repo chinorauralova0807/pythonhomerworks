{
 "cells": [
  {
   "cell_type": "code",
   "execution_count": 2,
   "metadata": {},
   "outputs": [
    {
     "name": "stdout",
     "output_type": "stream",
     "text": [
      "8\n",
      "9\n"
     ]
    }
   ],
   "source": [
    "for i in range(0, 10):\n",
    "    if i % 2 == 0:\n",
    "        a = i\n",
    "    else:\n",
    "        b = i\n",
    "\n",
    "print(a)\n",
    "print(b)"
   ]
  },
  {
   "cell_type": "code",
   "execution_count": 5,
   "metadata": {},
   "outputs": [
    {
     "name": "stdout",
     "output_type": "stream",
     "text": [
      "0\n",
      "3\n",
      "6\n",
      "9\n"
     ]
    }
   ],
   "source": [
    "for i in range(0, 10, 3):\n",
    "    print(i)"
   ]
  },
  {
   "attachments": {},
   "cell_type": "markdown",
   "metadata": {},
   "source": [
    "Dictionaries"
   ]
  },
  {
   "cell_type": "code",
   "execution_count": 7,
   "metadata": {},
   "outputs": [
    {
     "name": "stdout",
     "output_type": "stream",
     "text": [
      "<class 'list'>\n",
      "['a', 'b', 'c']\n",
      "['d', 'b', 'c']\n"
     ]
    }
   ],
   "source": [
    "a = ['a', 'b', 'c']\n",
    "print(type(a))\n",
    "print(a)\n",
    "a[0] = 'd'\n",
    "print(a)"
   ]
  },
  {
   "cell_type": "code",
   "execution_count": 8,
   "metadata": {},
   "outputs": [
    {
     "name": "stdout",
     "output_type": "stream",
     "text": [
      "<class 'tuple'>\n"
     ]
    }
   ],
   "source": [
    "b = ([1, 2], 3, 4)\n",
    "print(type(b))"
   ]
  },
  {
   "cell_type": "code",
   "execution_count": null,
   "metadata": {},
   "outputs": [],
   "source": [
    "#key:value"
   ]
  },
  {
   "cell_type": "code",
   "execution_count": 11,
   "metadata": {},
   "outputs": [
    {
     "ename": "KeyError",
     "evalue": "0",
     "output_type": "error",
     "traceback": [
      "\u001b[1;31m---------------------------------------------------------------------------\u001b[0m",
      "\u001b[1;31mKeyError\u001b[0m                                  Traceback (most recent call last)",
      "Cell \u001b[1;32mIn[11], line 2\u001b[0m\n\u001b[0;32m      1\u001b[0m diction \u001b[39m=\u001b[39m {\u001b[39m'\u001b[39m\u001b[39mfirst_name\u001b[39m\u001b[39m'\u001b[39m:\u001b[39m'\u001b[39m\u001b[39mMike\u001b[39m\u001b[39m'\u001b[39m, \u001b[39m'\u001b[39m\u001b[39mlast_name\u001b[39m\u001b[39m'\u001b[39m:\u001b[39m'\u001b[39m\u001b[39mJordan\u001b[39m\u001b[39m'\u001b[39m, \u001b[39m'\u001b[39m\u001b[39mage\u001b[39m\u001b[39m'\u001b[39m:\u001b[39m27\u001b[39m}\n\u001b[1;32m----> 2\u001b[0m \u001b[39mprint\u001b[39m(diction[\u001b[39m0\u001b[39;49m])\n",
      "\u001b[1;31mKeyError\u001b[0m: 0"
     ]
    }
   ],
   "source": [
    "diction = {'first_name':'Mike', 'last_name':'Jordan', 'age':27}\n",
    "print(diction[0])"
   ]
  },
  {
   "cell_type": "code",
   "execution_count": 19,
   "metadata": {},
   "outputs": [
    {
     "name": "stdout",
     "output_type": "stream",
     "text": [
      "<class 'dict'>\n",
      "{'first_name': 'Mike', 'last_name': 'Jordan', 'age': 5}\n"
     ]
    }
   ],
   "source": [
    "my_list = (['first_name', 'Mike'], ['last_name', 'Jordan'], ['age', 5])\n",
    "my_dict = dict(my_list)\n",
    "print(type(my_dict))\n",
    "print(my_dict)"
   ]
  },
  {
   "cell_type": "code",
   "execution_count": 21,
   "metadata": {},
   "outputs": [
    {
     "name": "stdout",
     "output_type": "stream",
     "text": [
      "('first_name', 'last_name', 'age')\n"
     ]
    }
   ],
   "source": [
    "diction = {'first_name':'Mike', 'last_name':'Jordan', 'age':27}\n",
    "tupledict = tuple(diction)\n",
    "print(tupledict)"
   ]
  },
  {
   "cell_type": "code",
   "execution_count": 61,
   "metadata": {},
   "outputs": [
    {
     "name": "stdout",
     "output_type": "stream",
     "text": [
      "30\n"
     ]
    }
   ],
   "source": [
    "people = {'Michael': {\n",
    "    'age': 25,\n",
    "    'city': 'London',\n",
    "    'last_name': 'Jackson'\n",
    "}, \n",
    "'Bruno':\n",
    "    {\n",
    "        'age': 30,\n",
    "        'city': 'Porto',\n",
    "        'last_name': 'Fernandes'\n",
    "    }}\n",
    "\n",
    "print(people['Bruno']['age'])"
   ]
  },
  {
   "cell_type": "code",
   "execution_count": 31,
   "metadata": {},
   "outputs": [
    {
     "name": "stdout",
     "output_type": "stream",
     "text": [
      "{'one': 1, 'two': 2, 'three': 3}\n"
     ]
    }
   ],
   "source": [
    "newdict = dict(one=1, two=2, three=3)\n",
    "\n",
    "print(newdict)"
   ]
  },
  {
   "cell_type": "code",
   "execution_count": 32,
   "metadata": {},
   "outputs": [
    {
     "name": "stdout",
     "output_type": "stream",
     "text": [
      "{'age': 25, 'city': 'London', 'last_name': 'Jackson'}\n"
     ]
    }
   ],
   "source": [
    "Mich = people['Michael']\n",
    "print(Mich)"
   ]
  },
  {
   "cell_type": "code",
   "execution_count": 34,
   "metadata": {},
   "outputs": [
    {
     "ename": "KeyError",
     "evalue": "'address'",
     "output_type": "error",
     "traceback": [
      "\u001b[1;31m---------------------------------------------------------------------------\u001b[0m",
      "\u001b[1;31mKeyError\u001b[0m                                  Traceback (most recent call last)",
      "Cell \u001b[1;32mIn[34], line 1\u001b[0m\n\u001b[1;32m----> 1\u001b[0m Mich[\u001b[39m'\u001b[39;49m\u001b[39maddress\u001b[39;49m\u001b[39m'\u001b[39;49m]\n",
      "\u001b[1;31mKeyError\u001b[0m: 'address'"
     ]
    }
   ],
   "source": [
    "Mich['address']"
   ]
  },
  {
   "cell_type": "code",
   "execution_count": 37,
   "metadata": {},
   "outputs": [
    {
     "name": "stdout",
     "output_type": "stream",
     "text": [
      "Nothing\n"
     ]
    }
   ],
   "source": [
    "if 'address' in Mich:\n",
    "    print(Mich['address'])\n",
    "else:\n",
    "    print('Nothing')"
   ]
  },
  {
   "cell_type": "code",
   "execution_count": 39,
   "metadata": {},
   "outputs": [
    {
     "data": {
      "text/plain": [
       "False"
      ]
     },
     "execution_count": 39,
     "metadata": {},
     "output_type": "execute_result"
    }
   ],
   "source": [
    "'age' not in Mich"
   ]
  },
  {
   "cell_type": "code",
   "execution_count": 41,
   "metadata": {},
   "outputs": [
    {
     "ename": "KeyError",
     "evalue": "'address'",
     "output_type": "error",
     "traceback": [
      "\u001b[1;31m---------------------------------------------------------------------------\u001b[0m",
      "\u001b[1;31mKeyError\u001b[0m                                  Traceback (most recent call last)",
      "Cell \u001b[1;32mIn[41], line 1\u001b[0m\n\u001b[1;32m----> 1\u001b[0m Mich[\u001b[39m'\u001b[39;49m\u001b[39maddress\u001b[39;49m\u001b[39m'\u001b[39;49m]\n",
      "\u001b[1;31mKeyError\u001b[0m: 'address'"
     ]
    }
   ],
   "source": [
    "Mich['address']"
   ]
  },
  {
   "cell_type": "code",
   "execution_count": 47,
   "metadata": {},
   "outputs": [
    {
     "data": {
      "text/plain": [
       "25"
      ]
     },
     "execution_count": 47,
     "metadata": {},
     "output_type": "execute_result"
    }
   ],
   "source": [
    "Mich.get('age', 'Nothing')"
   ]
  },
  {
   "cell_type": "code",
   "execution_count": 57,
   "metadata": {},
   "outputs": [],
   "source": [
    "Mich.clear()"
   ]
  },
  {
   "cell_type": "code",
   "execution_count": 58,
   "metadata": {},
   "outputs": [
    {
     "data": {
      "text/plain": [
       "{}"
      ]
     },
     "execution_count": 58,
     "metadata": {},
     "output_type": "execute_result"
    }
   ],
   "source": [
    "Mich"
   ]
  },
  {
   "cell_type": "code",
   "execution_count": 59,
   "metadata": {},
   "outputs": [
    {
     "data": {
      "text/plain": [
       "{'Michael': {},\n",
       " 'Bruno': {'age': 30, 'city': 'Porto', 'last_name': 'Fernandes'}}"
      ]
     },
     "execution_count": 59,
     "metadata": {},
     "output_type": "execute_result"
    }
   ],
   "source": [
    "people"
   ]
  },
  {
   "cell_type": "code",
   "execution_count": 54,
   "metadata": {},
   "outputs": [],
   "source": [
    "Mich = people['Michael']"
   ]
  },
  {
   "cell_type": "code",
   "execution_count": 55,
   "metadata": {},
   "outputs": [],
   "source": [
    "Mica = Mich.copy()"
   ]
  },
  {
   "cell_type": "code",
   "execution_count": 56,
   "metadata": {},
   "outputs": [
    {
     "name": "stdout",
     "output_type": "stream",
     "text": [
      "{'age': 25, 'city': 'London', 'last_name': 'Jackson'}\n"
     ]
    }
   ],
   "source": [
    "print(Mica)"
   ]
  },
  {
   "cell_type": "code",
   "execution_count": 67,
   "metadata": {},
   "outputs": [
    {
     "data": {
      "text/plain": [
       "{'Michael': {},\n",
       " 'Bruno': {'age': 30, 'city': 'Porto', 'last_name': 'Fernandes'}}"
      ]
     },
     "execution_count": 67,
     "metadata": {},
     "output_type": "execute_result"
    }
   ],
   "source": [
    "from copy import deepcopy\n",
    "\n",
    "Mich = people['Michael']\n",
    "Mich\n",
    "\n",
    "Mich.clear()\n",
    "\n",
    "MichDeep = deepcopy(people['Michael'])\n",
    "MichDeep\n",
    "\n",
    "MichDeep.clear()\n",
    "\n",
    "people"
   ]
  },
  {
   "cell_type": "code",
   "execution_count": 69,
   "metadata": {},
   "outputs": [
    {
     "data": {
      "text/plain": [
       "dict_items([('first_name', 'Frodo'), ('last_name', 'Baggins'), ('age', 210)])"
      ]
     },
     "execution_count": 69,
     "metadata": {},
     "output_type": "execute_result"
    }
   ],
   "source": [
    "sample_dict = {'first_name': 'Frodo', 'last_name': 'Baggins', 'age': 210}\n",
    "\n",
    "sample_dict.items()"
   ]
  },
  {
   "cell_type": "code",
   "execution_count": 70,
   "metadata": {},
   "outputs": [
    {
     "data": {
      "text/plain": [
       "dict_keys(['first_name', 'last_name', 'age'])"
      ]
     },
     "execution_count": 70,
     "metadata": {},
     "output_type": "execute_result"
    }
   ],
   "source": [
    "sample_dict.keys()"
   ]
  },
  {
   "cell_type": "code",
   "execution_count": 74,
   "metadata": {},
   "outputs": [
    {
     "name": "stdout",
     "output_type": "stream",
     "text": [
      "<class 'dict_values'>\n"
     ]
    }
   ],
   "source": [
    "a = sample_dict.values()\n",
    "print(type(a))"
   ]
  },
  {
   "cell_type": "code",
   "execution_count": 77,
   "metadata": {},
   "outputs": [
    {
     "data": {
      "text/plain": [
       "{'first_name': 'Frodo', 'last_name': 'Baggins'}"
      ]
     },
     "execution_count": 77,
     "metadata": {},
     "output_type": "execute_result"
    }
   ],
   "source": [
    "sample_dict.pop('age')\n",
    "sample_dict"
   ]
  },
  {
   "cell_type": "code",
   "execution_count": 78,
   "metadata": {},
   "outputs": [
    {
     "data": {
      "text/plain": [
       "{'first_name': 'Frodo'}"
      ]
     },
     "execution_count": 78,
     "metadata": {},
     "output_type": "execute_result"
    }
   ],
   "source": [
    "sample_dict.popitem()\n",
    "sample_dict"
   ]
  },
  {
   "cell_type": "code",
   "execution_count": 82,
   "metadata": {},
   "outputs": [],
   "source": [
    "mov_char = {'first_name': 'Frodo', 'last_name': 'Baggins', 'age': 210}\n",
    "mov_char.update([('address', 'Shiro')])"
   ]
  },
  {
   "cell_type": "code",
   "execution_count": 84,
   "metadata": {},
   "outputs": [
    {
     "data": {
      "text/plain": [
       "{'first_name': 'Frodo', 'last_name': 'Baggins', 'age': 21, 'address': 'Shiro'}"
      ]
     },
     "execution_count": 84,
     "metadata": {},
     "output_type": "execute_result"
    }
   ],
   "source": [
    "mov_char.update([('age', 21)])\n",
    "mov_char"
   ]
  },
  {
   "cell_type": "code",
   "execution_count": 87,
   "metadata": {},
   "outputs": [
    {
     "data": {
      "text/plain": [
       "{'first_name': 'Gilmo', 'last_name': 'Baggins', 'age': 21, 'address': 'Shiro'}"
      ]
     },
     "execution_count": 87,
     "metadata": {},
     "output_type": "execute_result"
    }
   ],
   "source": [
    "mov_char['first_name'] = 'Gilmo'\n",
    "mov_char"
   ]
  },
  {
   "cell_type": "code",
   "execution_count": 88,
   "metadata": {},
   "outputs": [
    {
     "data": {
      "text/plain": [
       "{'first_name': 'Gilmo', 'last_name': 'Baggins', 'age': 21}"
      ]
     },
     "execution_count": 88,
     "metadata": {},
     "output_type": "execute_result"
    }
   ],
   "source": [
    "del mov_char['address']\n",
    "mov_char"
   ]
  },
  {
   "attachments": {},
   "cell_type": "markdown",
   "metadata": {},
   "source": [
    "Sets"
   ]
  },
  {
   "cell_type": "code",
   "execution_count": 100,
   "metadata": {},
   "outputs": [
    {
     "name": "stdout",
     "output_type": "stream",
     "text": [
      "<class 'set'>\n",
      "{'b', 'a', 'd', 'c'}\n"
     ]
    }
   ],
   "source": [
    "my_set = {'a', 'a', 'b', 'c', 'c', 'd'}\n",
    "print(type(my_set))\n",
    "print(my_set)"
   ]
  },
  {
   "cell_type": "code",
   "execution_count": 103,
   "metadata": {},
   "outputs": [
    {
     "data": {
      "text/plain": [
       "True"
      ]
     },
     "execution_count": 103,
     "metadata": {},
     "output_type": "execute_result"
    }
   ],
   "source": [
    "'a' in my_set"
   ]
  },
  {
   "cell_type": "code",
   "execution_count": 104,
   "metadata": {},
   "outputs": [
    {
     "name": "stdout",
     "output_type": "stream",
     "text": [
      "b\n",
      "a\n",
      "d\n",
      "c\n"
     ]
    }
   ],
   "source": [
    "for i in my_set:\n",
    "    print(i)"
   ]
  },
  {
   "cell_type": "code",
   "execution_count": 107,
   "metadata": {},
   "outputs": [
    {
     "data": {
      "text/plain": [
       "{'a', 'b', 'c', 'd', 'e'}"
      ]
     },
     "execution_count": 107,
     "metadata": {},
     "output_type": "execute_result"
    }
   ],
   "source": [
    "my_set.update('a')\n",
    "my_set"
   ]
  },
  {
   "cell_type": "code",
   "execution_count": 112,
   "metadata": {},
   "outputs": [
    {
     "ename": "TypeError",
     "evalue": "unhashable type: 'set'",
     "output_type": "error",
     "traceback": [
      "\u001b[1;31m---------------------------------------------------------------------------\u001b[0m",
      "\u001b[1;31mTypeError\u001b[0m                                 Traceback (most recent call last)",
      "Cell \u001b[1;32mIn[112], line 1\u001b[0m\n\u001b[1;32m----> 1\u001b[0m my_set\u001b[39m.\u001b[39;49madd({\u001b[39m'\u001b[39;49m\u001b[39mg\u001b[39;49m\u001b[39m'\u001b[39;49m, \u001b[39m'\u001b[39;49m\u001b[39mh\u001b[39;49m\u001b[39m'\u001b[39;49m})\n\u001b[0;32m      2\u001b[0m my_set\n",
      "\u001b[1;31mTypeError\u001b[0m: unhashable type: 'set'"
     ]
    }
   ],
   "source": [
    "my_set.add({'g', 'h'})\n",
    "my_set"
   ]
  },
  {
   "cell_type": "code",
   "execution_count": 116,
   "metadata": {},
   "outputs": [
    {
     "data": {
      "text/plain": [
       "{'a', 'b', 'c', 'd', 'e', 'f', 'g', 'h', 'i', 'm'}"
      ]
     },
     "execution_count": 116,
     "metadata": {},
     "output_type": "execute_result"
    }
   ],
   "source": [
    "my_set.update({'m': 'n'})\n",
    "my_set"
   ]
  },
  {
   "cell_type": "code",
   "execution_count": 117,
   "metadata": {},
   "outputs": [
    {
     "data": {
      "text/plain": [
       "{'a', 'b', 'c', 'd', 'e', 'f', 'g', 'h', 'i'}"
      ]
     },
     "execution_count": 117,
     "metadata": {},
     "output_type": "execute_result"
    }
   ],
   "source": [
    "my_set.remove('m')\n",
    "my_set"
   ]
  },
  {
   "cell_type": "code",
   "execution_count": 126,
   "metadata": {},
   "outputs": [
    {
     "data": {
      "text/plain": [
       "{'a', 'b', 'c', 'd', 'e', 'g', 'h', 'i'}"
      ]
     },
     "execution_count": 126,
     "metadata": {},
     "output_type": "execute_result"
    }
   ],
   "source": [
    "my_set.discard('m')\n",
    "my_set"
   ]
  },
  {
   "cell_type": "code",
   "execution_count": 130,
   "metadata": {},
   "outputs": [
    {
     "data": {
      "text/plain": [
       "'g'"
      ]
     },
     "execution_count": 130,
     "metadata": {},
     "output_type": "execute_result"
    }
   ],
   "source": [
    "my_set.pop()"
   ]
  },
  {
   "cell_type": "code",
   "execution_count": 131,
   "metadata": {},
   "outputs": [
    {
     "data": {
      "text/plain": [
       "{'a', 'c', 'd', 'e', 'h'}"
      ]
     },
     "execution_count": 131,
     "metadata": {},
     "output_type": "execute_result"
    }
   ],
   "source": [
    "my_set"
   ]
  },
  {
   "cell_type": "code",
   "execution_count": 132,
   "metadata": {},
   "outputs": [
    {
     "data": {
      "text/plain": [
       "set()"
      ]
     },
     "execution_count": 132,
     "metadata": {},
     "output_type": "execute_result"
    }
   ],
   "source": [
    "my_set = {'a', 'a', 'b', 'c', 'c', 'd'}\n",
    "my_set.clear()\n",
    "my_set"
   ]
  },
  {
   "cell_type": "code",
   "execution_count": 133,
   "metadata": {},
   "outputs": [
    {
     "ename": "NameError",
     "evalue": "name 'my_set' is not defined",
     "output_type": "error",
     "traceback": [
      "\u001b[1;31m---------------------------------------------------------------------------\u001b[0m",
      "\u001b[1;31mNameError\u001b[0m                                 Traceback (most recent call last)",
      "Cell \u001b[1;32mIn[133], line 3\u001b[0m\n\u001b[0;32m      1\u001b[0m my_set \u001b[39m=\u001b[39m {\u001b[39m'\u001b[39m\u001b[39ma\u001b[39m\u001b[39m'\u001b[39m, \u001b[39m'\u001b[39m\u001b[39ma\u001b[39m\u001b[39m'\u001b[39m, \u001b[39m'\u001b[39m\u001b[39mb\u001b[39m\u001b[39m'\u001b[39m, \u001b[39m'\u001b[39m\u001b[39mc\u001b[39m\u001b[39m'\u001b[39m, \u001b[39m'\u001b[39m\u001b[39mc\u001b[39m\u001b[39m'\u001b[39m, \u001b[39m'\u001b[39m\u001b[39md\u001b[39m\u001b[39m'\u001b[39m}\n\u001b[0;32m      2\u001b[0m \u001b[39mdel\u001b[39;00m my_set\n\u001b[1;32m----> 3\u001b[0m my_set\n",
      "\u001b[1;31mNameError\u001b[0m: name 'my_set' is not defined"
     ]
    }
   ],
   "source": [
    "my_set = {'a', 'a', 'b', 'c', 'c', 'd'}\n",
    "del my_set\n",
    "my_set"
   ]
  },
  {
   "cell_type": "code",
   "execution_count": 136,
   "metadata": {},
   "outputs": [
    {
     "name": "stdout",
     "output_type": "stream",
     "text": [
      "{'tomato', 'pear', 'cucumber', 'apple', 'orange'}\n"
     ]
    }
   ],
   "source": [
    "fruits = {'apple', 'orange', 'pear'}\n",
    "vegetables = {'tomato', 'cucumber'}\n",
    "\n",
    "a = fruits.union(vegetables)\n",
    "print(a)"
   ]
  },
  {
   "cell_type": "code",
   "execution_count": 139,
   "metadata": {},
   "outputs": [
    {
     "data": {
      "text/plain": [
       "{'a', 'b', 'c', 'd'}"
      ]
     },
     "execution_count": 139,
     "metadata": {},
     "output_type": "execute_result"
    }
   ],
   "source": [
    "letter1 = {'a', 'b', 'c'}\n",
    "letter2 = ['c', 'd']\n",
    "\n",
    "letter1.union(letter2)"
   ]
  },
  {
   "cell_type": "code",
   "execution_count": 140,
   "metadata": {},
   "outputs": [
    {
     "data": {
      "text/plain": [
       "{'c'}"
      ]
     },
     "execution_count": 140,
     "metadata": {},
     "output_type": "execute_result"
    }
   ],
   "source": [
    "letter1 = {'a', 'b', 'c'}\n",
    "letter2 = {'c', 'd'}\n",
    "\n",
    "letter1.intersection(letter2)"
   ]
  },
  {
   "cell_type": "code",
   "execution_count": 142,
   "metadata": {},
   "outputs": [
    {
     "data": {
      "text/plain": [
       "{'d'}"
      ]
     },
     "execution_count": 142,
     "metadata": {},
     "output_type": "execute_result"
    }
   ],
   "source": [
    "letter1 = {'a', 'b', 'c'}\n",
    "letter2 = {'c', 'd'}\n",
    "\n",
    "letter2.difference(letter1)"
   ]
  },
  {
   "attachments": {},
   "cell_type": "markdown",
   "metadata": {},
   "source": [
    "Loops"
   ]
  },
  {
   "cell_type": "code",
   "execution_count": 143,
   "metadata": {},
   "outputs": [
    {
     "name": "stdout",
     "output_type": "stream",
     "text": [
      "h\n",
      "e\n",
      "l\n",
      "l\n",
      "o\n"
     ]
    }
   ],
   "source": [
    "a = 'hello'\n",
    "for i in a:\n",
    "    print(i)"
   ]
  },
  {
   "cell_type": "code",
   "execution_count": 146,
   "metadata": {},
   "outputs": [
    {
     "name": "stdout",
     "output_type": "stream",
     "text": [
      "hhh\n",
      "eee\n",
      "lll\n",
      "lll\n",
      "ooo\n"
     ]
    }
   ],
   "source": [
    "a = 'hello'\n",
    "for i in a:\n",
    "    print(i*3)"
   ]
  },
  {
   "cell_type": "code",
   "execution_count": 149,
   "metadata": {},
   "outputs": [
    {
     "name": "stdout",
     "output_type": "stream",
     "text": [
      "5\n"
     ]
    }
   ],
   "source": [
    "new_list = [\n",
    "    [1, 2, 3],\n",
    "    [4, 5, 6],\n",
    "    [7, 8, 9]\n",
    "]\n",
    "print(new_list[1][1])\n"
   ]
  },
  {
   "cell_type": "code",
   "execution_count": 158,
   "metadata": {},
   "outputs": [
    {
     "name": "stdout",
     "output_type": "stream",
     "text": [
      "{'age': 25, 'city': 'London', 'last_name': 'Jackson'}\n",
      "age 25\n",
      "city London\n",
      "last_name Jackson\n"
     ]
    }
   ],
   "source": [
    "print(Mica)\n",
    "for i in Mica:\n",
    "    print(i, Mica[i])"
   ]
  },
  {
   "cell_type": "code",
   "execution_count": 163,
   "metadata": {},
   "outputs": [
    {
     "name": "stdout",
     "output_type": "stream",
     "text": [
      "dict_items([('age', 25), ('city', 'London'), ('last_name', 'Jackson')])\n",
      "Mica's age is 25\n",
      "Mica's city is London\n",
      "Mica's last_name is Jackson\n"
     ]
    }
   ],
   "source": [
    "print(Mica.items())\n",
    "for a, b in Mica.items():\n",
    "    print(f'Mica\\'s {a} is {b}')"
   ]
  },
  {
   "cell_type": "code",
   "execution_count": 164,
   "metadata": {},
   "outputs": [
    {
     "name": "stdout",
     "output_type": "stream",
     "text": [
      "1 apple\n",
      "2 banana\n",
      "3 grapefruit\n"
     ]
    }
   ],
   "source": [
    "lists = [(1, 'apple'), (2, 'banana'), (3, 'grapefruit')]\n",
    "for a, b in lists:\n",
    "    print(a, b)"
   ]
  },
  {
   "cell_type": "code",
   "execution_count": 169,
   "metadata": {},
   "outputs": [
    {
     "name": "stdout",
     "output_type": "stream",
     "text": [
      "0 - h\n",
      "1 - e\n",
      "2 - l\n",
      "3 - l\n",
      "4 - o\n"
     ]
    }
   ],
   "source": [
    "string = 'hello'\n",
    "for b, i in enumerate(string):\n",
    "    print(f'{b} - {i}')"
   ]
  },
  {
   "cell_type": "code",
   "execution_count": 176,
   "metadata": {},
   "outputs": [
    {
     "name": "stdout",
     "output_type": "stream",
     "text": [
      "Zulayxo English\n",
      "Chinora French\n",
      "Mohira Italian\n"
     ]
    }
   ],
   "source": [
    "names = ['Zulayxo', 'Chinora', 'Mohira']\n",
    "languages = ['English', 'French', 'Italian']\n",
    "\n",
    "for i, b in zip(names, languages):\n",
    "    print(i, b)"
   ]
  },
  {
   "cell_type": "code",
   "execution_count": 178,
   "metadata": {},
   "outputs": [
    {
     "name": "stdout",
     "output_type": "stream",
     "text": [
      "0\n",
      "1\n",
      "2\n",
      "3\n",
      "4\n",
      "5\n",
      "6\n",
      "7\n",
      "8\n",
      "9\n"
     ]
    }
   ],
   "source": [
    "count = 0\n",
    "while count < 10:\n",
    "    print(count)\n",
    "    count += 1"
   ]
  },
  {
   "cell_type": "code",
   "execution_count": 181,
   "metadata": {},
   "outputs": [],
   "source": [
    "myvariable = True\n",
    "while not myvariable:\n",
    "    print('Hi')\n",
    "\n",
    "    myvariable = False"
   ]
  },
  {
   "cell_type": "code",
   "execution_count": 182,
   "metadata": {},
   "outputs": [
    {
     "name": "stdout",
     "output_type": "stream",
     "text": [
      "0\n",
      "1\n",
      "2\n",
      "3\n",
      "4\n",
      "count=5\n"
     ]
    }
   ],
   "source": [
    "count = 0\n",
    "while count < 10:\n",
    "    if count == 5:\n",
    "        print(f'{count=}')\n",
    "        break\n",
    "    print(count)\n",
    "    count +=1"
   ]
  },
  {
   "cell_type": "code",
   "execution_count": 191,
   "metadata": {},
   "outputs": [
    {
     "name": "stdout",
     "output_type": "stream",
     "text": [
      "1 - Banana\n",
      "2 - Pear\n",
      "3 - Apple\n",
      "Apple Found\n"
     ]
    }
   ],
   "source": [
    "fruits = [(1, 'Banana'), (2, 'Pear'), (3, 'Apple'), (4, 'GrapeFruit')]\n",
    "for i, f in fruits:\n",
    "    print(f'{i} - {f}')\n",
    "    if f == 'Apple':\n",
    "        print('Apple Found')\n",
    "        break"
   ]
  },
  {
   "cell_type": "code",
   "execution_count": 189,
   "metadata": {},
   "outputs": [
    {
     "name": "stdout",
     "output_type": "stream",
     "text": [
      "3\n",
      "5\n",
      "7\n",
      "9\n"
     ]
    }
   ],
   "source": [
    "for number in range(2, 10):\n",
    "    if number%2 == 0:\n",
    "        continue\n",
    "    print(number)"
   ]
  },
  {
   "attachments": {},
   "cell_type": "markdown",
   "metadata": {},
   "source": [
    "Pole Chudes"
   ]
  },
  {
   "cell_type": "code",
   "execution_count": 1,
   "metadata": {},
   "outputs": [
    {
     "name": "stdout",
     "output_type": "stream",
     "text": [
      "Welcome to Pole Chudes\n",
      "Your word: _ _ _ _\n",
      "Attempts left: 3\n",
      "Sorry, your letter G is not in the word\n",
      "Attempts left: 2\n",
      "Sorry, your letter D is not in the word\n",
      "Attempts left: 1\n",
      "You already guessed that letter\n",
      "Attempts left: 1\n",
      "Good job! You found the letter T\n",
      "T _ _ _\n",
      "Attempts left: 1\n",
      "Good job! You found the letter E\n",
      "T E _ _\n",
      "Attempts left: 1\n",
      "Good job! You found the letter C\n",
      "T E C _\n",
      "Attempts left: 1\n",
      "Sorry, your letter K is not in the word\n",
      "Game over! The word was: TECH\n"
     ]
    }
   ],
   "source": [
    "```import random\n",
    "\n",
    "def pole_chudes():\n",
    "    print('Welcome to Pole Chudes')\n",
    "    words = [\"Table\", \"Laptop\", \"Tech\", \"Notebook\", \"Pen\", \"Factory\", \"Stone\", \"Desk\", \"Ghost\", \"User\", \"Flower\"]\n",
    "    word = random.choice(words).upper()\n",
    "    hidden_word = len(word) * [\"_\"]\n",
    "    guessed_letters = set()\n",
    "    attempts = 3\n",
    "\n",
    "    print(f'Your word: {\" \".join(hidden_word)}')\n",
    "\n",
    "    while attempts > 0 and \"_\" in hidden_word:\n",
    "        print(f'Attempts left: {attempts}')\n",
    "        guess = input(\"Guess a letter: \").upper()\n",
    "\n",
    "        if len(guess) != 1 or not guess.isalpha():\n",
    "            print('Please enter a single valid letter')\n",
    "            continue\n",
    "        if guess in guessed_letters:\n",
    "            print('You already guessed that letter')\n",
    "            continue\n",
    "        guessed_letters.add(guess)\n",
    "\n",
    "        if guess in word:\n",
    "            print(f'Good job! You found the letter {guess}')\n",
    "            for i, letter in enumerate(word):\n",
    "                if letter == guess:\n",
    "                    hidden_word[i] = guess\n",
    "                    print(\" \".join(hidden_word))\n",
    "        else:\n",
    "            print(f'Sorry, your letter {guess} is not in the word')\n",
    "            attempts -= 1\n",
    "        \n",
    "    if \"_\" not in hidden_word:\n",
    "        print(f'Congratulations! You guessed the word: {word}')\n",
    "    else:\n",
    "        print(f'Game over! The word was: {word}')\n",
    "\n",
    "pole_chudes()\n"
   ]
  },
  {
   "cell_type": "code",
   "execution_count": 2,
   "metadata": {},
   "outputs": [
    {
     "name": "stdout",
     "output_type": "stream",
     "text": [
      "Welcome to Pole Chudes\n",
      "Your word: _ _ _ _\n",
      "Attempts left: 3\n",
      "Sorry, your letter A is not in the word\n",
      "Attempts left: 2\n",
      "Sorry, your letter D is not in the word\n",
      "Attempts left: 1\n",
      "Good job! You found the letter T\n",
      "T _ _ _\n",
      "Attempts left: 1\n",
      "Good job! You found the letter E\n",
      "T E _ _\n",
      "Attempts left: 1\n",
      "Good job! You found the letter C\n",
      "T E C _\n",
      "Attempts left: 1\n",
      "Good job! You found the letter H\n",
      "T E C H\n",
      "Congratulations! You guessed the word: TECH\n"
     ]
    }
   ],
   "source": [
    "import random\n",
    "\n",
    "def pole_chudes():\n",
    "    print('Welcome to Pole Chudes')\n",
    "    words = [\"Table\", \"Laptop\", \"Tech\", \"Notebook\", \"Pen\", \"Factory\", \"Stone\", \"Desk\", \"Ghost\", \"User\", \"Flower\"]\n",
    "    word = random.choice(words).upper()\n",
    "    hidden_word = len(word) * [\"_\"]\n",
    "    guessed_letters = set()\n",
    "    attempts = 3\n",
    "\n",
    "    print(f'Your word: {\" \".join(hidden_word)}')\n",
    "\n",
    "    while attempts > 0 and \"_\" in hidden_word:\n",
    "        print(f'Attempts left: {attempts}')\n",
    "        guess = input(\"Guess a letter: \").upper()\n",
    "\n",
    "        if len(guess) != 1 or not guess.isalpha():\n",
    "            print('Please enter a single valid letter')\n",
    "            continue\n",
    "        if guess in guessed_letters:\n",
    "            print('You already guessed that letter')\n",
    "            continue\n",
    "        guessed_letters.add(guess)\n",
    "\n",
    "        if guess in word:\n",
    "            print(f'Good job! You found the letter {guess}')\n",
    "            for i, letter in enumerate(word):\n",
    "                if letter == guess:\n",
    "                    hidden_word[i] = guess\n",
    "                    print(\" \".join(hidden_word))\n",
    "        else:\n",
    "            print(f'Sorry, your letter {guess} is not in the word')\n",
    "            attempts -= 1\n",
    "        \n",
    "    if \"_\" not in hidden_word:\n",
    "        print(f'Congratulations! You guessed the word: {word}')\n",
    "    else:\n",
    "        print(f'Game over! The word was: {word}')\n",
    "\n",
    "pole_chudes()\n"
   ]
  },
  {
   "cell_type": "code",
   "execution_count": null,
   "metadata": {},
   "outputs": [],
   "source": []
  }
 ],
 "metadata": {
  "kernelspec": {
   "display_name": "Python 3",
   "language": "python",
   "name": "python3"
  },
  "language_info": {
   "codemirror_mode": {
    "name": "ipython",
    "version": 3
   },
   "file_extension": ".py",
   "mimetype": "text/x-python",
   "name": "python",
   "nbconvert_exporter": "python",
   "pygments_lexer": "ipython3",
   "version": "3.12.8"
  },
  "orig_nbformat": 4
 },
 "nbformat": 4,
 "nbformat_minor": 2
}
