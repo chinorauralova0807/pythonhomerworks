
1)create a list named named food with two elements ,"rice" and "beans".

food =["rice", "beans"]
2)Append the string "broccoli" to food using.append().

food.append("Broccoli")
print (food)
['rice', 'beans', 'Broccoli']
Add the strings "bread" and "pizza" to food.extend().
food.extend(["bread", "pizza"])
print (food)
['rice', 'beans', 'Broccoli', 'bread', 'pizza']
4)Print the first two items in the food using print() and slice notation

print(food[:2])
['rice', 'beans']
5)Print the last item if food using print() and index notation.

print(food[-1])
pizza
6)Create a list called breakfast from the string "eggs,fruit,orange juice" using the string.split() method

breakfast ="eggs, fruit, orange juice".split(", ")
print (breakfast)
['eggs', 'fruit', 'orange juice']
7)Verify that breakfast has three items using len().

print(len(breakfast))
3
8)Create a new list called lengths using a list comprehension that contains the length of each string in the breakfast list

lengths = [len(item) for item in breakfast]
print (lengths)
[4, 5, 12]
