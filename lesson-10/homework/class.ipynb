
Write a Python program to import a built-in array module and display the namespace of the said module
import array
print(dir(array))
['ArrayType', '__doc__', '__loader__', '__name__', '__package__', '__spec__', '_array_reconstructor', 'array', 'typecodes']
Write a Python program to create a class and display the namespace of that class.
class Intelligent:
    class_variable='I am a class variable'
    def __init__(self, name):
        self.name=name
    def display(self):
        return f'Hello, my name is {self.name}'
    
obj=Intelligent('Chinora')
message=obj.display()
print(message)
Hello, my name is Chinora
Write a Python program to create an instance of a specified class and display the namespace of the said instance.
class Student():
    def __init__(self,student_id,student_name,class_name):
        self.student_id=student_id
        self.student_name=student_name
        self.class_name=class_name
student=Student('F11','Chinora','F')
print(student.__dict__)
{'student_id': 'F11', 'student_name': 'Chinora', 'class_name': 'F'}
4.'builtins' module provides direct access to all 'built-in' identifiers of Python. Write a Python program that imports the abs() function using the builtins module, displays the documentation of the abs() function and finds the absolute value of -155.

import builtins
help(builtins.abs)
print(builtins.abs(-155))
Help on built-in function abs in module builtins:

abs(x, /)
    Return the absolute value of the argument.

155
Define a Python function student(). Using function attributes display the names of all arguments.
def student(student_id,student_name,student_class):
    return f'student_id: {student_id}\nstudent_name:{student_name}\nstudent_class:{student_class}'

print(student('F11','Zulayho','VI'))
student_id: F11
student_name:Zulayho
student_class:VI
Write a Python function student_data () that will print the ID of a student (student_id). If the user passes an argument student_name or student_class the function will print the student name and class.
def student_data(student_id, **kwargs):
    print(f'\nStudent ID: {student_id}')
    if 'student_name' in kwargs:
        print(f"Student Name: $ {kwargs['student_name']}")
    
    if 'student_name' and 'student_class' in kwargs:
            print(f"\nStudent Name: $ {kwargs['student_name']}")
            print(f"Student Class: $ {kwargs['student_class']}")

 
student_data(student_id='SV12', student_name='Jean Garner')

student_data(student_id='SV12', student_name='Jean Garner', student_class ='V')
Student ID: SV12
Student Name: $ Jean Garner

Student ID: SV12
Student Name: $ Jean Garner

Student Name: $ Jean Garner
Student Class: $ V
Write a simple Python class named Student and display its type. Also, display the dict attribute keys and the value of the module attribute of the Student class.
class Student:
    pass
print(type(Student))
print(Student.__dict__.keys())
print(Student.__module__)
<class 'type'>
dict_keys(['__module__', '__dict__', '__weakref__', '__doc__'])
__main__
8.Write a Python program to create two empty classes, Student and Marks. Now create some instances and check whether they are instances of the said classes or not. Also, check whether the said classes are subclasses of the built-in object class or not.

class Student:
    pass
class Marks:
    pass
student1=Student()
Mark1=Marks()
print(isinstance(student1, Student))
print(isinstance(Mark1,Student))
print(isinstance(Mark1, Marks)) 
print(isinstance(student1, Marks))
print("\nCheck whether the said classes are subclasses of the built-in object class or not.")
print(issubclass(Student,object))
print(issubclass(Marks,object))
True
False
True
False

Check whether the said classes are subclasses of the built-in object class or not.
True
True
Write a Python class named Student with two attributes student_name, marks. Modify the attribute values of the said class and print the original and modified values of the said attributes
class student:
    def __init__(self,student_name,marks):
        self.student_name =student_name
        self.marks=marks
    
    def get_details(self):
        return f'Student Name:{self.student_name}, Marks: {self.marks}'
    
    def update_details(self,student_name,marks):
        self.student_name=student_name
        self.marks=marks
        return f"Updated Details: Student Name: {self.student_name}, Marks: {self.marks}"
    
Student=student("chinora Uralova", 91)
print("Original values:")
print(Student.get_details())

print("\nModified values:")
print(Student.update_details("Rayxon Uralova",99))
Original values:
Student Name:chinora Uralova, Marks: 91

Modified values:
Updated Details: Student Name: Rayxon Uralova, Marks: 99
Write a Python class named Student with two attributes student_id, student_name. Add a new attribute student_class and display the entire attribute and the values of the class. Now remove the student_name attribute and display the entire attribute with values.
class Student:
    student_id = 'V10'
    student_name = 'Jacqueline Barnett'  
print("Original attributes and their values of the Student class:")
for attr, value in Student.__dict__.items():
    if not attr.startswith('_'):
        print(f'{attr} -> {value}')
print("\nAfter adding the student_class, attributes and their values with the said class:")
Student.student_class  = 'V'
for attr, value in Student.__dict__.items():
    if not attr.startswith('_'):
        print(f'{attr} -> {value}')
print("\nAfter removing the student_name, attributes and their values from the said class:")
del Student.student_name
#delattr(Student, 'student_name')
for attr, value in Student.__dict__.items():
    if not attr.startswith('_'):
        print(f'{attr} -> {value}')
Original attributes and their values of the Student class:
student_id -> V10
student_name -> Jacqueline Barnett

After adding the student_class, attributes and their values with the said class:
student_id -> V10
student_name -> Jacqueline Barnett
student_class -> V

After removing the student_name, attributes and their values from the said class:
student_id -> V10
student_class -> V
Write a Python class named Student with two attributes: student_id, student_name. Add a new attribute: student_class. Create a function to display all attributes and their values in the Student class.
class Student:
    def __init__(self,student_id,student_name):
        self.student_id=student_id
        self.student_name=student_name
    def display(self):
        return f'Student id: {self.student_id}\nStudent Name: {self.student_name}'
    
student3=Student("F11", "Uralova Chinora")

print("Original attributes and their values of the Student class:")
print(student3.display())
    
Original attributes and their values of the Student class:
Student id: F11
Student Name: Uralova Chinora
Write a Python class named Student with two instances student1, student2 and assign values to the instances' attributes. Print all the attributes of the student1, student2 instances with their values in the given format.
class Student:
    def __init__(self,student_id, student_name, marks_language, marks_science, marks_math):
        self.student_id=student_id
        self.student_name=student_name
        self.marks_language=marks_language
        self.marks_science=marks_science
        self.marks_math=marks_math
    
    def display(self):
        return f'student_id : {self.student_id}\nstudent_name : {self.student_name}\nstudent_Id:{self.student_id}\nmarks_language:{self.marks_language}\nmarks_science:{self.marks_science}\nmarks_math:{self.marks_math}'
    
student=Student('F11','Chinora Uralova',85, 93, 95)
print(student.display())

                
    
student_id : F11
student_name : Chinora Uralova
student_Id:F11
marks_language:85
marks_science:93
marks_math:95
Python class, Basic application [12 exercises with solution]

Write a Python class to convert an integer to a Roman numeral.
class integertoRoman:
    def __init__(self):
        self.roman_numerals={
            1000: "M", 900: "CM", 500: "D", 400: "CD", 
            100: "C", 90: "XC", 50: "L", 40: "XL", 
            10: "X", 9: "IX", 5: "V", 4: "IV", 1: "I"
        }
    def int_to_roman(self,num):
        roman_string=''
        
        for value,numeral in self.roman_numerals.items():
            while num>=value:
                roman_string+=numeral
                num-=value

        return roman_string
    
converter = integertoRoman()
integer=2006
roman_numeral = converter.int_to_roman(integer)
print(f"The Roman numeral for {integer} is {roman_numeral}.")
The Roman numeral for 2006 is MMVI.
Write a Python class to convert a Roman numeral to an integer.

class RomanToInteger:
    def __init__(self):
        self.roman_numerals = {
            "I": 1, "V": 5, "X": 10, "L": 50, 
            "C": 100, "D": 500, "M": 1000
        }

    def roman_to_int(self, roman):
        total = 0
        prev_value = 0

        for char in reversed(roman):
            current_value = self.roman_numerals[char]

            if current_value < prev_value:
                total -= current_value
            else:
                total += current_value

            prev_value = current_value
        
        return total

converter = RomanToInteger()
roman = "MCMXCIV"
integer_value = converter.roman_to_int(roman)
print(f"The integer value of Roman numeral {roman} is {integer_value}.")
The integer value of Roman numeral MCMXCIV is 1994.
Write a Python class to check the validity of a string of parentheses, '(', ')', '{', '}', '[' and ']. These brackets must be closed in the correct order, for example "()" and "()[]{}" are valid but "[)", "({[)]" and "{{{" are invalid.
class py_solution:
   def is_valid_parenthese(self, str1):
        stack, pchar = [], {"(": ")", "{": "}", "[": "]"}
        for parenthese in str1:
            if parenthese in pchar:
                stack.append(parenthese)
            elif len(stack) == 0 or pchar[stack.pop()] != parenthese:
                return False
        return len(stack) == 0

print(py_solution().is_valid_parenthese("(){}[]"))
print(py_solution().is_valid_parenthese("()[{)}"))
print(py_solution().is_valid_parenthese("()"))
True
False
True
4 Write a Python class to get all possible unique subsets from a set of distinct integers. Input : [4, 5, 6] Output : [[], [6], [5], [5, 6], [4], [4, 6], [4, 5], [4, 5, 6]]

class py_solution:
    def sub_sets(self, sset):
        return self.subsetsRecur([], sorted(sset))
    
    def subsetsRecur(self, current, sset):
        if sset:
            return self.subsetsRecur(current, sset[1:]) + self.subsetsRecur(current + [sset[0]], sset[1:])
        return [current]

print(py_solution().sub_sets([4,5,6]))
[[], [6], [5], [5, 6], [4], [4, 6], [4, 5], [4, 5, 6]]
Write a Python class to find a pair of elements (indices of the two numbers) from a given array whose sum equals a specific target number. Note: There will be one solution for each input and do not use the same element twice. Input: numbers= [10,20,10,40,50,60,70], target=50 Output: 3, 4
class py_solution:
  def twoSum(self, nums, target):
       lookup = {}
       for i, num in enumerate(nums):
           if target - num in lookup:
               return (lookup[target - num], i )
           lookup[num] = i
print("index1=%d, index2=%d" % py_solution().twoSum((10,20,10,40,50,60,70),50))
index1=2, index2=3
Write a Python class to find the three elements that sum to zero from a set of n real numbers. Input array : [-25, -10, -7, -3, 2, 4, 8, 10] Output : [[-10, 2, 8], [-7, -3, 10]]
class py_solution:
 def threeSum(self, nums):
        nums, result, i = sorted(nums), [], 0
        while i < len(nums) - 2:
            j, k = i + 1, len(nums) - 1
            while j < k:
                if nums[i] + nums[j] + nums[k] < 0:
                    j += 1
                elif nums[i] + nums[j] + nums[k] > 0:
                    k -= 1
                else:
                    result.append([nums[i], nums[j], nums[k]])
                    j, k = j + 1, k - 1
                    while j < k and nums[j] == nums[j - 1]:
                        j += 1
                    while j < k and nums[k] == nums[k + 1]:
                        k -= 1
            i += 1
            while i < len(nums) - 2 and nums[i] == nums[i - 1]:
                i += 1
        return result

print(py_solution().threeSum([-25, -10, -7, -3, 2, 4, 8, 10]))
[[-10, 2, 8], [-7, -3, 10]]
Write a Python class to implement pow(x, n).
class py_solution:
   def pow(self, x, n):
        if x==0 or x==1 or n==1:
            return x 

        if x==-1:
            if n%2 ==0:
                return 1
            else:
                return -1
        if n==0:
            return 1
        if n<0:
            return 1/self.pow(x,-n)
        val = self.pow(x,n//2)
        if n%2 ==0:
            return val*val
        return val*val*x

print(py_solution().pow(2, -3));
print(py_solution().pow(3, 5));
print(py_solution().pow(100, 0));
0.125
243
1
Write a Python class to reverse a string word by word. Input string : 'hello . py' Expected Output : '.py hello'
class py_solution:
    def reverse_words(self, s):
        return ' '.join(reversed(s.split()))
    
print(py_solution().reverse_words('hello .py'))
.py hello
Write a Python class that has two methods: get_String and print_String , get_String accept a string from the user and print_String prints the string in upper case.
class string():
    def __init__(self):
        self.str1=''
    def get_String(self):
        self.str1=input()

    def print_String(self):
        print(self.str1.upper())

str1=string()
str1.get_String()
str1.print_String()
CHINORA
Write a Python class named Rectangle constructed from length and width and a method that will compute the area of a rectangle.
class Rectangle():
    def __init__(self,l,w):
        self.length=l
        self.width=w

    def rectangle_area(self):
        return self.length*self.width
newRectangle=Rectangle(12,10)
print(newRectangle.rectangle_area())
120
Write a Python class named Circle constructed from a radius and two methods that will compute the area and the perimeter of a circle.
class Circle:
    def __init__(self, r):
        self.radius =r
    def area(self):
        return self.radius**2*3.14
    def perimeter(self):
        return 2* self.radius *3.14
    
NewCircle = Circle(8)

print(NewCircle.area())
print(NewCircle.perimeter())
    
200.96
50.24
Write a Python program to get the class name of an instance in Python.
import itertools
x=itertools.cycle("ABCD")
print(type(x).__name__)
cycle
