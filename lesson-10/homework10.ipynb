{
 "cells": [
  {
   "cell_type": "markdown",
   "metadata": {},
   "source": [
    "1) Write a Python program to import a built-in array module and display the namespace of the said module"
   ]
  },
  {
   "cell_type": "code",
   "execution_count": 1,
   "metadata": {},
   "outputs": [
    {
     "name": "stdout",
     "output_type": "stream",
     "text": [
      "['ArrayType', '__doc__', '__loader__', '__name__', '__package__', '__spec__', '_array_reconstructor', 'array', 'typecodes']\n"
     ]
    }
   ],
   "source": [
    "import array\n",
    "print(dir(array))"
   ]
  },
  {
   "cell_type": "markdown",
   "metadata": {},
   "source": [
    "2. Write a Python program to create a class and display the namespace of that class."
   ]
  },
  {
   "cell_type": "code",
   "execution_count": 2,
   "metadata": {},
   "outputs": [
    {
     "name": "stdout",
     "output_type": "stream",
     "text": [
      "Hello, my name is Chinora\n"
     ]
    }
   ],
   "source": [
    "class Intelligent:\n",
    "    class_variable='I am a class variable'\n",
    "    def __init__(self, name):\n",
    "        self.name=name\n",
    "    def display(self):\n",
    "        return f'Hello, my name is {self.name}'\n",
    "    \n",
    "obj=Intelligent('Chinora')\n",
    "message=obj.display()\n",
    "print(message)\n"
   ]
  },
  {
   "cell_type": "markdown",
   "metadata": {},
   "source": [
    "3. Write a Python program to create an instance of a specified class and display the namespace of the said instance."
   ]
  },
  {
   "cell_type": "code",
   "execution_count": 5,
   "metadata": {},
   "outputs": [
    {
     "name": "stdout",
     "output_type": "stream",
     "text": [
      "{'student_id': 'F11', 'student_name': 'Chinora', 'class_name': 'F'}\n"
     ]
    }
   ],
   "source": [
    "class Student():\n",
    "    def __init__(self,student_id,student_name,class_name):\n",
    "        self.student_id=student_id\n",
    "        self.student_name=student_name\n",
    "        self.class_name=class_name\n",
    "student=Student('F11','Chinora','F')\n",
    "print(student.__dict__)"
   ]
  },
  {
   "cell_type": "markdown",
   "metadata": {},
   "source": [
    "4.'builtins' module provides direct access to all 'built-in' identifiers of Python.\n",
    "Write a Python program that imports the abs() function using the builtins module, displays the documentation of the abs() function and finds the absolute value of -155."
   ]
  },
  {
   "cell_type": "code",
   "execution_count": 6,
   "metadata": {},
   "outputs": [
    {
     "name": "stdout",
     "output_type": "stream",
     "text": [
      "Help on built-in function abs in module builtins:\n",
      "\n",
      "abs(x, /)\n",
      "    Return the absolute value of the argument.\n",
      "\n",
      "155\n"
     ]
    }
   ],
   "source": [
    "import builtins\n",
    "help(builtins.abs)\n",
    "print(builtins.abs(-155))"
   ]
  },
  {
   "cell_type": "markdown",
   "metadata": {},
   "source": [
    "5. Define a Python function student(). Using function attributes display the names of all arguments."
   ]
  },
  {
   "cell_type": "code",
   "execution_count": 7,
   "metadata": {},
   "outputs": [
    {
     "name": "stdout",
     "output_type": "stream",
     "text": [
      "student_id: F11\n",
      "student_name:Zulayho\n",
      "student_class:VI\n"
     ]
    }
   ],
   "source": [
    "def student(student_id,student_name,student_class):\n",
    "    return f'student_id: {student_id}\\nstudent_name:{student_name}\\nstudent_class:{student_class}'\n",
    "\n",
    "print(student('F11','Zulayho','VI'))\n",
    "\n"
   ]
  },
  {
   "cell_type": "markdown",
   "metadata": {},
   "source": [
    "6. Write a Python function student_data () that will print the ID of a student (student_id). If the user passes an argument student_name or student_class the function will print the student name and class."
   ]
  },
  {
   "cell_type": "code",
   "execution_count": 8,
   "metadata": {},
   "outputs": [
    {
     "name": "stdout",
     "output_type": "stream",
     "text": [
      "\n",
      "Student ID: SV12\n",
      "Student Name: $ Jean Garner\n",
      "\n",
      "Student ID: SV12\n",
      "Student Name: $ Jean Garner\n",
      "\n",
      "Student Name: $ Jean Garner\n",
      "Student Class: $ V\n"
     ]
    }
   ],
   "source": [
    "def student_data(student_id, **kwargs):\n",
    "    print(f'\\nStudent ID: {student_id}')\n",
    "    if 'student_name' in kwargs:\n",
    "        print(f\"Student Name: $ {kwargs['student_name']}\")\n",
    "    \n",
    "    if 'student_name' and 'student_class' in kwargs:\n",
    "            print(f\"\\nStudent Name: $ {kwargs['student_name']}\")\n",
    "            print(f\"Student Class: $ {kwargs['student_class']}\")\n",
    "\n",
    " \n",
    "student_data(student_id='SV12', student_name='Jean Garner')\n",
    "\n",
    "student_data(student_id='SV12', student_name='Jean Garner', student_class ='V')"
   ]
  },
  {
   "cell_type": "markdown",
   "metadata": {},
   "source": [
    "7. Write a simple Python class named Student and display its type. Also, display the __dict__ attribute keys and the value of the __module__ attribute of the Student class."
   ]
  },
  {
   "cell_type": "code",
   "execution_count": 10,
   "metadata": {},
   "outputs": [
    {
     "name": "stdout",
     "output_type": "stream",
     "text": [
      "<class 'type'>\n",
      "dict_keys(['__module__', '__dict__', '__weakref__', '__doc__'])\n",
      "__main__\n"
     ]
    }
   ],
   "source": [
    "class Student:\n",
    "    pass\n",
    "print(type(Student))\n",
    "print(Student.__dict__.keys())\n",
    "print(Student.__module__)\n"
   ]
  },
  {
   "cell_type": "markdown",
   "metadata": {},
   "source": [
    " 8.Write a Python program to create two empty classes, Student and Marks. Now create some instances and check whether they are instances of the said classes or not. Also, check whether the said classes are subclasses of the built-in object class or not."
   ]
  },
  {
   "cell_type": "code",
   "execution_count": 11,
   "metadata": {},
   "outputs": [
    {
     "name": "stdout",
     "output_type": "stream",
     "text": [
      "True\n",
      "False\n",
      "True\n",
      "False\n",
      "\n",
      "Check whether the said classes are subclasses of the built-in object class or not.\n",
      "True\n",
      "True\n"
     ]
    }
   ],
   "source": [
    "class Student:\n",
    "    pass\n",
    "class Marks:\n",
    "    pass\n",
    "student1=Student()\n",
    "Mark1=Marks()\n",
    "print(isinstance(student1, Student))\n",
    "print(isinstance(Mark1,Student))\n",
    "print(isinstance(Mark1, Marks)) \n",
    "print(isinstance(student1, Marks))\n",
    "print(\"\\nCheck whether the said classes are subclasses of the built-in object class or not.\")\n",
    "print(issubclass(Student,object))\n",
    "print(issubclass(Marks,object))"
   ]
  },
  {
   "cell_type": "markdown",
   "metadata": {},
   "source": [
    "9. Write a Python class named Student with two attributes student_name, marks. Modify the attribute values of the said class and print the original and modified values of the said attributes"
   ]
  },
  {
   "cell_type": "code",
   "execution_count": 17,
   "metadata": {},
   "outputs": [
    {
     "name": "stdout",
     "output_type": "stream",
     "text": [
      "Original values:\n",
      "Student Name:chinora Uralova, Marks: 91\n",
      "\n",
      "Modified values:\n",
      "Updated Details: Student Name: Rayxon Uralova, Marks: 99\n"
     ]
    }
   ],
   "source": [
    "class student:\n",
    "    def __init__(self,student_name,marks):\n",
    "        self.student_name =student_name\n",
    "        self.marks=marks\n",
    "    \n",
    "    def get_details(self):\n",
    "        return f'Student Name:{self.student_name}, Marks: {self.marks}'\n",
    "    \n",
    "    def update_details(self,student_name,marks):\n",
    "        self.student_name=student_name\n",
    "        self.marks=marks\n",
    "        return f\"Updated Details: Student Name: {self.student_name}, Marks: {self.marks}\"\n",
    "    \n",
    "Student=student(\"chinora Uralova\", 91)\n",
    "print(\"Original values:\")\n",
    "print(Student.get_details())\n",
    "\n",
    "print(\"\\nModified values:\")\n",
    "print(Student.update_details(\"Rayxon Uralova\",99))\n",
    "\n",
    "\n",
    "\n",
    "\n",
    "\n"
   ]
  },
  {
   "cell_type": "markdown",
   "metadata": {},
   "source": [
    "10. Write a Python class named Student with two attributes student_id, student_name. Add a new attribute student_class and display the entire attribute and the values of the class. Now remove the student_name attribute and display the entire attribute with values."
   ]
  },
  {
   "cell_type": "code",
   "execution_count": 22,
   "metadata": {},
   "outputs": [
    {
     "name": "stdout",
     "output_type": "stream",
     "text": [
      "Original attributes and their values of the Student class:\n",
      "student_id -> V10\n",
      "student_name -> Jacqueline Barnett\n",
      "\n",
      "After adding the student_class, attributes and their values with the said class:\n",
      "student_id -> V10\n",
      "student_name -> Jacqueline Barnett\n",
      "student_class -> V\n",
      "\n",
      "After removing the student_name, attributes and their values from the said class:\n",
      "student_id -> V10\n",
      "student_class -> V\n"
     ]
    }
   ],
   "source": [
    "class Student:\n",
    "    student_id = 'V10'\n",
    "    student_name = 'Jacqueline Barnett'  \n",
    "print(\"Original attributes and their values of the Student class:\")\n",
    "for attr, value in Student.__dict__.items():\n",
    "    if not attr.startswith('_'):\n",
    "        print(f'{attr} -> {value}')\n",
    "print(\"\\nAfter adding the student_class, attributes and their values with the said class:\")\n",
    "Student.student_class  = 'V'\n",
    "for attr, value in Student.__dict__.items():\n",
    "    if not attr.startswith('_'):\n",
    "        print(f'{attr} -> {value}')\n",
    "print(\"\\nAfter removing the student_name, attributes and their values from the said class:\")\n",
    "del Student.student_name\n",
    "#delattr(Student, 'student_name')\n",
    "for attr, value in Student.__dict__.items():\n",
    "    if not attr.startswith('_'):\n",
    "        print(f'{attr} -> {value}')\n"
   ]
  },
  {
   "cell_type": "markdown",
   "metadata": {},
   "source": [
    "11. Write a Python class named Student with two attributes: student_id, student_name. Add a new attribute: student_class. Create a function to display all attributes and their values in the Student class.\n"
   ]
  },
  {
   "cell_type": "code",
   "execution_count": 31,
   "metadata": {},
   "outputs": [
    {
     "name": "stdout",
     "output_type": "stream",
     "text": [
      "Original attributes and their values of the Student class:\n",
      "Student id: F11\n",
      "Student Name: Uralova Chinora\n"
     ]
    }
   ],
   "source": [
    "class Student:\n",
    "    def __init__(self,student_id,student_name):\n",
    "        self.student_id=student_id\n",
    "        self.student_name=student_name\n",
    "    def display(self):\n",
    "        return f'Student id: {self.student_id}\\nStudent Name: {self.student_name}'\n",
    "    \n",
    "student3=Student(\"F11\", \"Uralova Chinora\")\n",
    "\n",
    "print(\"Original attributes and their values of the Student class:\")\n",
    "print(student3.display())\n",
    "    \n"
   ]
  },
  {
   "cell_type": "markdown",
   "metadata": {},
   "source": [
    "12. Write a Python class named Student with two instances student1, student2 and assign values to the instances' attributes. Print all the attributes of the student1, student2 instances with their values in the given format."
   ]
  },
  {
   "cell_type": "code",
   "execution_count": 32,
   "metadata": {},
   "outputs": [
    {
     "name": "stdout",
     "output_type": "stream",
     "text": [
      "student_id : F11\n",
      "student_name : Chinora Uralova\n",
      "student_Id:F11\n",
      "marks_language:85\n",
      "marks_science:93\n",
      "marks_math:95\n"
     ]
    }
   ],
   "source": [
    "class Student:\n",
    "    def __init__(self,student_id, student_name, marks_language, marks_science, marks_math):\n",
    "        self.student_id=student_id\n",
    "        self.student_name=student_name\n",
    "        self.marks_language=marks_language\n",
    "        self.marks_science=marks_science\n",
    "        self.marks_math=marks_math\n",
    "    \n",
    "    def display(self):\n",
    "        return f'student_id : {self.student_id}\\nstudent_name : {self.student_name}\\nstudent_Id:{self.student_id}\\nmarks_language:{self.marks_language}\\nmarks_science:{self.marks_science}\\nmarks_math:{self.marks_math}'\n",
    "    \n",
    "student=Student('F11','Chinora Uralova',85, 93, 95)\n",
    "print(student.display())\n",
    "\n",
    "                \n",
    "    "
   ]
  },
  {
   "cell_type": "markdown",
   "metadata": {},
   "source": [
    "Python class, Basic application [12 exercises with solution]"
   ]
  },
  {
   "cell_type": "markdown",
   "metadata": {},
   "source": [
    "1. Write a Python class to convert an integer to a Roman numeral."
   ]
  },
  {
   "cell_type": "code",
   "execution_count": 33,
   "metadata": {},
   "outputs": [
    {
     "name": "stdout",
     "output_type": "stream",
     "text": [
      "The Roman numeral for 2006 is MMVI.\n"
     ]
    }
   ],
   "source": [
    "class integertoRoman:\n",
    "    def __init__(self):\n",
    "        self.roman_numerals={\n",
    "            1000: \"M\", 900: \"CM\", 500: \"D\", 400: \"CD\", \n",
    "            100: \"C\", 90: \"XC\", 50: \"L\", 40: \"XL\", \n",
    "            10: \"X\", 9: \"IX\", 5: \"V\", 4: \"IV\", 1: \"I\"\n",
    "        }\n",
    "    def int_to_roman(self,num):\n",
    "        roman_string=''\n",
    "        \n",
    "        for value,numeral in self.roman_numerals.items():\n",
    "            while num>=value:\n",
    "                roman_string+=numeral\n",
    "                num-=value\n",
    "\n",
    "        return roman_string\n",
    "    \n",
    "converter = integertoRoman()\n",
    "integer=2006\n",
    "roman_numeral = converter.int_to_roman(integer)\n",
    "print(f\"The Roman numeral for {integer} is {roman_numeral}.\")\n"
   ]
  },
  {
   "cell_type": "markdown",
   "metadata": {},
   "source": [
    "Write a  Python class to convert a Roman numeral to an integer."
   ]
  },
  {
   "cell_type": "code",
   "execution_count": 34,
   "metadata": {},
   "outputs": [
    {
     "name": "stdout",
     "output_type": "stream",
     "text": [
      "The integer value of Roman numeral MCMXCIV is 1994.\n"
     ]
    }
   ],
   "source": [
    "class RomanToInteger:\n",
    "    def __init__(self):\n",
    "        self.roman_numerals = {\n",
    "            \"I\": 1, \"V\": 5, \"X\": 10, \"L\": 50, \n",
    "            \"C\": 100, \"D\": 500, \"M\": 1000\n",
    "        }\n",
    "\n",
    "    def roman_to_int(self, roman):\n",
    "        total = 0\n",
    "        prev_value = 0\n",
    "\n",
    "        for char in reversed(roman):\n",
    "            current_value = self.roman_numerals[char]\n",
    "\n",
    "            if current_value < prev_value:\n",
    "                total -= current_value\n",
    "            else:\n",
    "                total += current_value\n",
    "\n",
    "            prev_value = current_value\n",
    "        \n",
    "        return total\n",
    "\n",
    "converter = RomanToInteger()\n",
    "roman = \"MCMXCIV\"\n",
    "integer_value = converter.roman_to_int(roman)\n",
    "print(f\"The integer value of Roman numeral {roman} is {integer_value}.\")\n"
   ]
  },
  {
   "cell_type": "markdown",
   "metadata": {},
   "source": [
    "3. Write a Python class to check the validity of a string of parentheses, '(', ')', '{', '}', '[' and ']. These brackets must be closed in the correct order, for example \"()\" and \"()[]{}\" are valid but \"[)\", \"({[)]\" and \"{{{\" are invalid."
   ]
  },
  {
   "cell_type": "code",
   "execution_count": 35,
   "metadata": {},
   "outputs": [
    {
     "name": "stdout",
     "output_type": "stream",
     "text": [
      "True\n",
      "False\n",
      "True\n"
     ]
    }
   ],
   "source": [
    "class py_solution:\n",
    "   def is_valid_parenthese(self, str1):\n",
    "        stack, pchar = [], {\"(\": \")\", \"{\": \"}\", \"[\": \"]\"}\n",
    "        for parenthese in str1:\n",
    "            if parenthese in pchar:\n",
    "                stack.append(parenthese)\n",
    "            elif len(stack) == 0 or pchar[stack.pop()] != parenthese:\n",
    "                return False\n",
    "        return len(stack) == 0\n",
    "\n",
    "print(py_solution().is_valid_parenthese(\"(){}[]\"))\n",
    "print(py_solution().is_valid_parenthese(\"()[{)}\"))\n",
    "print(py_solution().is_valid_parenthese(\"()\"))\n"
   ]
  },
  {
   "cell_type": "markdown",
   "metadata": {},
   "source": [
    "4 Write a Python class to get all possible unique subsets from a set of distinct integers.\n",
    "Input : [4, 5, 6]\n",
    "Output : [[], [6], [5], [5, 6], [4], [4, 6], [4, 5], [4, 5, 6]]"
   ]
  },
  {
   "cell_type": "code",
   "execution_count": 36,
   "metadata": {},
   "outputs": [
    {
     "name": "stdout",
     "output_type": "stream",
     "text": [
      "[[], [6], [5], [5, 6], [4], [4, 6], [4, 5], [4, 5, 6]]\n"
     ]
    }
   ],
   "source": [
    "class py_solution:\n",
    "    def sub_sets(self, sset):\n",
    "        return self.subsetsRecur([], sorted(sset))\n",
    "    \n",
    "    def subsetsRecur(self, current, sset):\n",
    "        if sset:\n",
    "            return self.subsetsRecur(current, sset[1:]) + self.subsetsRecur(current + [sset[0]], sset[1:])\n",
    "        return [current]\n",
    "\n",
    "print(py_solution().sub_sets([4,5,6]))\n"
   ]
  },
  {
   "cell_type": "markdown",
   "metadata": {},
   "source": [
    "5. Write a Python class to find a pair of elements (indices of the two numbers) from a given array whose sum equals a specific target number.\n",
    "Note: There will be one solution for each input and do not use the same element twice.\n",
    "Input: numbers= [10,20,10,40,50,60,70], target=50\n",
    "Output: 3, 4\n",
    "\n"
   ]
  },
  {
   "cell_type": "code",
   "execution_count": 37,
   "metadata": {},
   "outputs": [
    {
     "name": "stdout",
     "output_type": "stream",
     "text": [
      "index1=2, index2=3\n"
     ]
    }
   ],
   "source": [
    "class py_solution:\n",
    "  def twoSum(self, nums, target):\n",
    "       lookup = {}\n",
    "       for i, num in enumerate(nums):\n",
    "           if target - num in lookup:\n",
    "               return (lookup[target - num], i )\n",
    "           lookup[num] = i\n",
    "print(\"index1=%d, index2=%d\" % py_solution().twoSum((10,20,10,40,50,60,70),50))\n"
   ]
  },
  {
   "cell_type": "markdown",
   "metadata": {},
   "source": [
    "6. Write a Python class to find the three elements that sum to zero from a set of n real numbers.\n",
    "Input array : [-25, -10, -7, -3, 2, 4, 8, 10]\n",
    "Output : [[-10, 2, 8], [-7, -3, 10]]"
   ]
  },
  {
   "cell_type": "code",
   "execution_count": 39,
   "metadata": {},
   "outputs": [
    {
     "name": "stdout",
     "output_type": "stream",
     "text": [
      "[[-10, 2, 8], [-7, -3, 10]]\n"
     ]
    }
   ],
   "source": [
    "class py_solution:\n",
    " def threeSum(self, nums):\n",
    "        nums, result, i = sorted(nums), [], 0\n",
    "        while i < len(nums) - 2:\n",
    "            j, k = i + 1, len(nums) - 1\n",
    "            while j < k:\n",
    "                if nums[i] + nums[j] + nums[k] < 0:\n",
    "                    j += 1\n",
    "                elif nums[i] + nums[j] + nums[k] > 0:\n",
    "                    k -= 1\n",
    "                else:\n",
    "                    result.append([nums[i], nums[j], nums[k]])\n",
    "                    j, k = j + 1, k - 1\n",
    "                    while j < k and nums[j] == nums[j - 1]:\n",
    "                        j += 1\n",
    "                    while j < k and nums[k] == nums[k + 1]:\n",
    "                        k -= 1\n",
    "            i += 1\n",
    "            while i < len(nums) - 2 and nums[i] == nums[i - 1]:\n",
    "                i += 1\n",
    "        return result\n",
    "\n",
    "print(py_solution().threeSum([-25, -10, -7, -3, 2, 4, 8, 10]))\n"
   ]
  },
  {
   "cell_type": "markdown",
   "metadata": {},
   "source": [
    "7. Write a Python class to implement pow(x, n)."
   ]
  },
  {
   "cell_type": "code",
   "execution_count": 38,
   "metadata": {},
   "outputs": [
    {
     "name": "stdout",
     "output_type": "stream",
     "text": [
      "0.125\n",
      "243\n",
      "1\n"
     ]
    }
   ],
   "source": [
    "class py_solution:\n",
    "   def pow(self, x, n):\n",
    "        if x==0 or x==1 or n==1:\n",
    "            return x \n",
    "\n",
    "        if x==-1:\n",
    "            if n%2 ==0:\n",
    "                return 1\n",
    "            else:\n",
    "                return -1\n",
    "        if n==0:\n",
    "            return 1\n",
    "        if n<0:\n",
    "            return 1/self.pow(x,-n)\n",
    "        val = self.pow(x,n//2)\n",
    "        if n%2 ==0:\n",
    "            return val*val\n",
    "        return val*val*x\n",
    "\n",
    "print(py_solution().pow(2, -3));\n",
    "print(py_solution().pow(3, 5));\n",
    "print(py_solution().pow(100, 0));\n"
   ]
  },
  {
   "cell_type": "markdown",
   "metadata": {},
   "source": [
    "8. Write a Python class to reverse a string word by word.\n",
    "Input string : 'hello . py'\n",
    "Expected Output : '.py hello'"
   ]
  },
  {
   "cell_type": "code",
   "execution_count": 42,
   "metadata": {},
   "outputs": [
    {
     "name": "stdout",
     "output_type": "stream",
     "text": [
      ".py hello\n"
     ]
    }
   ],
   "source": [
    "class py_solution:\n",
    "    def reverse_words(self, s):\n",
    "        return ' '.join(reversed(s.split()))\n",
    "    \n",
    "print(py_solution().reverse_words('hello .py'))\n"
   ]
  },
  {
   "cell_type": "markdown",
   "metadata": {},
   "source": [
    "9. Write a Python class that has two methods: get_String and print_String , get_String accept a string from the user and print_String prints the string in upper case.\n",
    "\n"
   ]
  },
  {
   "cell_type": "code",
   "execution_count": 43,
   "metadata": {},
   "outputs": [
    {
     "name": "stdout",
     "output_type": "stream",
     "text": [
      "CHINORA\n"
     ]
    }
   ],
   "source": [
    "class string():\n",
    "    def __init__(self):\n",
    "        self.str1=''\n",
    "    def get_String(self):\n",
    "        self.str1=input()\n",
    "\n",
    "    def print_String(self):\n",
    "        print(self.str1.upper())\n",
    "\n",
    "str1=string()\n",
    "str1.get_String()\n",
    "str1.print_String()"
   ]
  },
  {
   "cell_type": "markdown",
   "metadata": {},
   "source": [
    "10. Write a Python class named Rectangle constructed from length and width and a method that will compute the area of a rectangle."
   ]
  },
  {
   "cell_type": "code",
   "execution_count": 45,
   "metadata": {},
   "outputs": [
    {
     "name": "stdout",
     "output_type": "stream",
     "text": [
      "120\n"
     ]
    }
   ],
   "source": [
    "class Rectangle():\n",
    "    def __init__(self,l,w):\n",
    "        self.length=l\n",
    "        self.width=w\n",
    "\n",
    "    def rectangle_area(self):\n",
    "        return self.length*self.width\n",
    "newRectangle=Rectangle(12,10)\n",
    "print(newRectangle.rectangle_area())\n"
   ]
  },
  {
   "cell_type": "markdown",
   "metadata": {},
   "source": [
    "11. Write a Python class named Circle constructed from a radius and two methods that will compute the area and the perimeter of a circle."
   ]
  },
  {
   "cell_type": "code",
   "execution_count": 1,
   "metadata": {},
   "outputs": [
    {
     "name": "stdout",
     "output_type": "stream",
     "text": [
      "200.96\n",
      "50.24\n"
     ]
    }
   ],
   "source": [
    "class Circle:\n",
    "    def __init__(self, r):\n",
    "        self.radius =r\n",
    "    def area(self):\n",
    "        return self.radius**2*3.14\n",
    "    def perimeter(self):\n",
    "        return 2* self.radius *3.14\n",
    "    \n",
    "NewCircle = Circle(8)\n",
    "\n",
    "print(NewCircle.area())\n",
    "print(NewCircle.perimeter())\n",
    "    \n"
   ]
  },
  {
   "cell_type": "markdown",
   "metadata": {},
   "source": [
    "12. Write a Python program to get the class name of an instance in Python."
   ]
  },
  {
   "cell_type": "code",
   "execution_count": 2,
   "metadata": {},
   "outputs": [
    {
     "name": "stdout",
     "output_type": "stream",
     "text": [
      "cycle\n"
     ]
    }
   ],
   "source": [
    "\n",
    "import itertools\n",
    "x=itertools.cycle(\"ABCD\")\n",
    "print(type(x).__name__)"
   ]
  }
 ],
 "metadata": {
  "kernelspec": {
   "display_name": "Python 3",
   "language": "python",
   "name": "python3"
  },
  "language_info": {
   "codemirror_mode": {
    "name": "ipython",
    "version": 3
   },
   "file_extension": ".py",
   "mimetype": "text/x-python",
   "name": "python",
   "nbconvert_exporter": "python",
   "pygments_lexer": "ipython3",
   "version": "3.12.8"
  }
 },
 "nbformat": 4,
 "nbformat_minor": 2
}
