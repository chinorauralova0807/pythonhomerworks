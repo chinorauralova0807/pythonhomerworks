
# 1. Given a list of tuples where each tuple contains a name and a score, 
# create a new list that contains the names of students who scored above 80.
# Example input: [('Mike', 75), ('Joe', 90), ('Beck', 85)]
# Expected output: ['Joe', 'Beck']
scores =[('Mike', 75), ('Joe', 90), ('Beck', 85)]
score_above_80 = (name for name,  score in scores if score >80)
print(list(score_above_80))
['Joe', 'Beck']
# 2. Given a tuple with several lists inside it, 
# write a function to return the list with the maximum sum of its elements.
# Example input: ([1, 2], [3, 4], [5, 6, 7])
# Expected output: [5, 6, 7]

# 3. Given a list of tuples with names and ages, 
# return a list of names where the age is greater than 30 and less than 50.
# Example input: [('Mike', 25), ('Joe', 31), ('Beck', 40)]
# Expected output: ['Joe', 'Beck']
ages = [('Mike', 25), ('Joe', 31), ('Beck', 40)]
age_above_30_and_less_50 =(name for name, age in ages if age>30 and age<50)
print (list(age_above_30_and_less_50))
['Joe', 'Beck']
# 4. Given a list of integers, 
# write a function to return a list of tuples where the first element is the number 
# and the second is 'Even' or 'Odd' depending on whether the number is even or odd.
# Example input: [1, 2, 3, 4]
# Expected output: [(1, 'Odd'), (2, 'Even'), (3, 'Odd'), (4, 'Even')]
numbers =[1, 2, 3, 4]
numbers =[1, 2, 3, 4]
def even_or_odd(elements):
    result= []
    
    for i in elements:
        if i % 2==0:
            result.append((i, 'even'))
        else:
            result.append((i, 'odd'))
    
    return result

output = even_or_odd(numbers)
print(output)
      
[(1, 'odd'), (2, 'even'), (3, 'odd'), (4, 'even')]
# 5. Given a list of tuples containing a string and an integer, 
# write a function that returns a tuple of the string with the largest length 
# and its corresponding integer. If two strings have the same length, 
# choose the one with the larger integer.
# Example input: [('apple', 5), ('banana', 4), ('cherry', 6)]
# Expected output: ('apple', 5)
tuples= [('apple', 5), ('banana', 4), ('cherry', 6)]
def longest_string_with_integer(tuples):
    return max(tuples, key =lambda x: (len(x[0]), x[1]))
output = longest_string_with_integer(tuples)
print(output)
('cherry', 6)
# 6. Given a list of tuples where each tuple contains a date (as a string in 'YYYY-MM-DD' format) and an event, 
# return the list of events in the order of the most recent dates.
# Example input: [('2024-12-01', 'Event A'), ('2025-01-01', 'Event B')]
# Expected output: [('2025-01-01', 'Event B'), ('2024-12-01', 'Event A')]
recent_dates =[('2024-12-01', 'Event A'), ('2025-01-01', 'Event B')]
def sort_events(event_list):
    return sorted(event_list, key=lambda x: x[0], reverse = True) 

sorted_recent_dates = sort_events(recent_dates)
print(sorted_recent_dates)
[('2025-01-01', 'Event B'), ('2024-12-01', 'Event A')]
# 7. Given a list of tuples where each tuple contains a name and a score, 
# return the highest score and the corresponding name.
# Example input: [('Mike', 75), ('Joe', 90), ('Beck', 85)]
# Expected output: ('Joe', 90)
def highest_score(person):
    return max(person, key=lambda x: x[1])
input=[('Mike', 75), ('Joe', 90), ('Beck', 85)]
output = highest_score(input)
print(output)
('Joe', 90)
# 8. Given a list of tuples where each tuple contains a product name and its price, 
# write a function to return a list of products whose price is between 50 and 100.
# Example input: [('product1', 45), ('product2', 60), ('product3', 120)]
# Expected output: [('product2', 60)]
products = [('product1', 45), ('product2', 60), ('product3', 120)]
price= (product_tuple for product_tuple in products if 50 <= product_tuple[1] <=100)
print (list(price))
[('product2', 60)]
# 9. Given a list of tuples where each tuple contains a person's name and their age, 
# return the name of the oldest person in the list.
# Example input: [('Mike', 25), ('Joe', 31), ('Beck', 40)]
# Expected output: 'Beck'
def oldest_person(people):
    return max(people, key= lambda x: x[1])[0]
input = [('Mike', 25), ('Joe', 31), ('Beck', 40)]
output = oldest_person(input)
print(output)
Beck
# 10. Given a list of tuples containing a student's name and their grades in multiple subjects, 
# return the names of students who have an average grade greater than 80.
# Example input: [('Mike', [85, 75, 90]), ('Joe', [70, 80, 60])]
# Expected output: ['Mike']
def students_above_80(students):
    return [name for name, grades in students if sum(grades)/len(grades) > 80]
input = [('Mike', [85, 75, 90]), ('Joe', [70, 80, 60])]
output =students_above_80(input)
print(output)
['Mike']
 
[]
 
