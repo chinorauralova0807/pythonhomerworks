{
 "cells": [
  {
   "cell_type": "code",
   "execution_count": null,
   "metadata": {},
   "outputs": [],
   "source": [
    "# 1. Given a list of tuples where each tuple contains a name and a score, \n",
    "# create a new list that contains the names of students who scored above 80.\n",
    "# Example input: [('Mike', 75), ('Joe', 90), ('Beck', 85)]\n",
    "# Expected output: ['Joe', 'Beck']"
   ]
  },
  {
   "cell_type": "code",
   "execution_count": 7,
   "metadata": {},
   "outputs": [
    {
     "name": "stdout",
     "output_type": "stream",
     "text": [
      "['Joe', 'Beck']\n"
     ]
    }
   ],
   "source": [
    "scores =[('Mike', 75), ('Joe', 90), ('Beck', 85)]\n",
    "score_above_80 = (name for name,  score in scores if score >80)\n",
    "print(list(score_above_80))"
   ]
  },
  {
   "cell_type": "code",
   "execution_count": null,
   "metadata": {},
   "outputs": [],
   "source": [
    "# 2. Given a tuple with several lists inside it, \n",
    "# write a function to return the list with the maximum sum of its elements.\n",
    "# Example input: ([1, 2], [3, 4], [5, 6, 7])\n",
    "# Expected output: [5, 6, 7]"
   ]
  },
  {
   "cell_type": "code",
   "execution_count": null,
   "metadata": {},
   "outputs": [],
   "source": [
    "\n",
    "\n",
    "\n",
    "\n",
    "\n",
    "\n"
   ]
  },
  {
   "cell_type": "code",
   "execution_count": null,
   "metadata": {},
   "outputs": [],
   "source": [
    "# 3. Given a list of tuples with names and ages, \n",
    "# return a list of names where the age is greater than 30 and less than 50.\n",
    "# Example input: [('Mike', 25), ('Joe', 31), ('Beck', 40)]\n",
    "# Expected output: ['Joe', 'Beck']"
   ]
  },
  {
   "cell_type": "code",
   "execution_count": 17,
   "metadata": {},
   "outputs": [
    {
     "name": "stdout",
     "output_type": "stream",
     "text": [
      "['Joe', 'Beck']\n"
     ]
    }
   ],
   "source": [
    "ages = [('Mike', 25), ('Joe', 31), ('Beck', 40)]\n",
    "age_above_30_and_less_50 =(name for name, age in ages if age>30 and age<50)\n",
    "print (list(age_above_30_and_less_50))\n"
   ]
  },
  {
   "cell_type": "code",
   "execution_count": 5,
   "metadata": {},
   "outputs": [],
   "source": [
    "# 4. Given a list of integers, \n",
    "# write a function to return a list of tuples where the first element is the number \n",
    "# and the second is 'Even' or 'Odd' depending on whether the number is even or odd.\n",
    "# Example input: [1, 2, 3, 4]\n",
    "# Expected output: [(1, 'Odd'), (2, 'Even'), (3, 'Odd'), (4, 'Even')]"
   ]
  },
  {
   "cell_type": "code",
   "execution_count": 18,
   "metadata": {},
   "outputs": [],
   "source": [
    "\n",
    "numbers =[1, 2, 3, 4]\n"
   ]
  },
  {
   "cell_type": "code",
   "execution_count": 23,
   "metadata": {},
   "outputs": [
    {
     "name": "stdout",
     "output_type": "stream",
     "text": [
      "[(1, 'odd'), (2, 'even'), (3, 'odd'), (4, 'even')]\n"
     ]
    }
   ],
   "source": [
    "numbers =[1, 2, 3, 4]\n",
    "def even_or_odd(elements):\n",
    "    result= []\n",
    "    \n",
    "    for i in elements:\n",
    "        if i % 2==0:\n",
    "            result.append((i, 'even'))\n",
    "        else:\n",
    "            result.append((i, 'odd'))\n",
    "    \n",
    "    return result\n",
    "\n",
    "output = even_or_odd(numbers)\n",
    "print(output)\n",
    "      "
   ]
  },
  {
   "cell_type": "code",
   "execution_count": 25,
   "metadata": {},
   "outputs": [],
   "source": [
    "# 5. Given a list of tuples containing a string and an integer, \n",
    "# write a function that returns a tuple of the string with the largest length \n",
    "# and its corresponding integer. If two strings have the same length, \n",
    "# choose the one with the larger integer.\n",
    "# Example input: [('apple', 5), ('banana', 4), ('cherry', 6)]\n",
    "# Expected output: ('apple', 5)"
   ]
  },
  {
   "cell_type": "code",
   "execution_count": 31,
   "metadata": {},
   "outputs": [
    {
     "name": "stdout",
     "output_type": "stream",
     "text": [
      "('cherry', 6)\n"
     ]
    }
   ],
   "source": [
    "tuples= [('apple', 5), ('banana', 4), ('cherry', 6)]\n",
    "def longest_string_with_integer(tuples):\n",
    "    return max(tuples, key =lambda x: (len(x[0]), x[1]))\n",
    "output = longest_string_with_integer(tuples)\n",
    "print(output)"
   ]
  },
  {
   "cell_type": "code",
   "execution_count": 37,
   "metadata": {},
   "outputs": [],
   "source": [
    "# 6. Given a list of tuples where each tuple contains a date (as a string in 'YYYY-MM-DD' format) and an event, \n",
    "# return the list of events in the order of the most recent dates.\n",
    "# Example input: [('2024-12-01', 'Event A'), ('2025-01-01', 'Event B')]\n",
    "# Expected output: [('2025-01-01', 'Event B'), ('2024-12-01', 'Event A')]"
   ]
  },
  {
   "cell_type": "code",
   "execution_count": 39,
   "metadata": {},
   "outputs": [
    {
     "name": "stdout",
     "output_type": "stream",
     "text": [
      "[('2025-01-01', 'Event B'), ('2024-12-01', 'Event A')]\n"
     ]
    }
   ],
   "source": [
    "recent_dates =[('2024-12-01', 'Event A'), ('2025-01-01', 'Event B')]\n",
    "def sort_events(event_list):\n",
    "    return sorted(event_list, key=lambda x: x[0], reverse = True) \n",
    "\n",
    "sorted_recent_dates = sort_events(recent_dates)\n",
    "print(sorted_recent_dates)\n",
    "\n",
    "\n"
   ]
  },
  {
   "cell_type": "code",
   "execution_count": null,
   "metadata": {},
   "outputs": [],
   "source": [
    "# 7. Given a list of tuples where each tuple contains a name and a score, \n",
    "# return the highest score and the corresponding name.\n",
    "# Example input: [('Mike', 75), ('Joe', 90), ('Beck', 85)]\n",
    "# Expected output: ('Joe', 90)"
   ]
  },
  {
   "cell_type": "code",
   "execution_count": 40,
   "metadata": {},
   "outputs": [
    {
     "name": "stdout",
     "output_type": "stream",
     "text": [
      "('Joe', 90)\n"
     ]
    }
   ],
   "source": [
    "def highest_score(person):\n",
    "    return max(person, key=lambda x: x[1])\n",
    "input=[('Mike', 75), ('Joe', 90), ('Beck', 85)]\n",
    "output = highest_score(input)\n",
    "print(output)"
   ]
  },
  {
   "cell_type": "code",
   "execution_count": null,
   "metadata": {},
   "outputs": [],
   "source": [
    "# 8. Given a list of tuples where each tuple contains a product name and its price, \n",
    "# write a function to return a list of products whose price is between 50 and 100.\n",
    "# Example input: [('product1', 45), ('product2', 60), ('product3', 120)]\n",
    "# Expected output: [('product2', 60)]"
   ]
  },
  {
   "cell_type": "code",
   "execution_count": 52,
   "metadata": {},
   "outputs": [
    {
     "name": "stdout",
     "output_type": "stream",
     "text": [
      "[('product2', 60)]\n"
     ]
    }
   ],
   "source": [
    "products = [('product1', 45), ('product2', 60), ('product3', 120)]\n",
    "price= (product_tuple for product_tuple in products if 50 <= product_tuple[1] <=100)\n",
    "print (list(price))\n"
   ]
  },
  {
   "cell_type": "code",
   "execution_count": 53,
   "metadata": {},
   "outputs": [],
   "source": [
    "# 9. Given a list of tuples where each tuple contains a person's name and their age, \n",
    "# return the name of the oldest person in the list.\n",
    "# Example input: [('Mike', 25), ('Joe', 31), ('Beck', 40)]\n",
    "# Expected output: 'Beck'"
   ]
  },
  {
   "cell_type": "code",
   "execution_count": 54,
   "metadata": {},
   "outputs": [
    {
     "name": "stdout",
     "output_type": "stream",
     "text": [
      "Beck\n"
     ]
    }
   ],
   "source": [
    "def oldest_person(people):\n",
    "    return max(people, key= lambda x: x[1])[0]\n",
    "input = [('Mike', 25), ('Joe', 31), ('Beck', 40)]\n",
    "output = oldest_person(input)\n",
    "print(output)"
   ]
  },
  {
   "cell_type": "code",
   "execution_count": null,
   "metadata": {},
   "outputs": [],
   "source": [
    "\n",
    "# 10. Given a list of tuples containing a student's name and their grades in multiple subjects, \n",
    "# return the names of students who have an average grade greater than 80.\n",
    "# Example input: [('Mike', [85, 75, 90]), ('Joe', [70, 80, 60])]\n",
    "# Expected output: ['Mike']"
   ]
  },
  {
   "cell_type": "code",
   "execution_count": 58,
   "metadata": {},
   "outputs": [
    {
     "name": "stdout",
     "output_type": "stream",
     "text": [
      "['Mike']\n"
     ]
    }
   ],
   "source": [
    "def students_above_80(students):\n",
    "    return [name for name, grades in students if sum(grades)/len(grades) > 80]\n",
    "input = [('Mike', [85, 75, 90]), ('Joe', [70, 80, 60])]\n",
    "output =students_above_80(input)\n",
    "print(output)"
   ]
  },
  {
   "cell_type": "code",
   "execution_count": 62,
   "metadata": {},
   "outputs": [
    {
     "data": {
      "text/plain": [
       "[]"
      ]
     },
     "execution_count": 62,
     "metadata": {},
     "output_type": "execute_result"
    }
   ],
   "source": []
  },
  {
   "cell_type": "code",
   "execution_count": null,
   "metadata": {},
   "outputs": [],
   "source": []
  }
 ],
 "metadata": {
  "kernelspec": {
   "display_name": "Python 3",
   "language": "python",
   "name": "python3"
  },
  "language_info": {
   "codemirror_mode": {
    "name": "ipython",
    "version": 3
   },
   "file_extension": ".py",
   "mimetype": "text/x-python",
   "name": "python",
   "nbconvert_exporter": "python",
   "pygments_lexer": "ipython3",
   "version": "3.12.8"
  }
 },
 "nbformat": 4,
 "nbformat_minor": 2
}
