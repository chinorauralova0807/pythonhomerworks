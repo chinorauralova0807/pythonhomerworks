{
 "cells": [
  {
   "cell_type": "code",
   "execution_count": 3,
   "metadata": {},
   "outputs": [
    {
     "name": "stdout",
     "output_type": "stream",
     "text": [
      "('Kira Nerys', 'Bajoran', 29)\n"
     ]
    }
   ],
   "source": [
    "import sqlite3\n",
    "connection=sqlite3.connect('roster.db1.sqlite')\n",
    "cursor=connection.cursor()\n",
    "cursor.execute('''Create table if not EXISTS Roster(\n",
    "                   Name text,\n",
    "                   Species text, \n",
    "                   Age int)''' )\n",
    "cursor.execute(\"DELETE FROM Roster\")\n",
    "try:\n",
    "    cursor.executemany('''Insert into Roster(Name, Species, Age) values \n",
    "                   (?,?,?)''',[\n",
    "                   ('Benjamin Sisko', 'Human', 40),\n",
    "                   ('Jadzia Dax','Trill', 300),\n",
    "                   ('Kira Nerys','Bajoran', 29)])\n",
    "\n",
    "\n",
    "except sqlite3.IntegrityError:\n",
    "    print(\"Data already exists, skipping insertion.\")\n",
    "\n",
    "\n",
    "cursor.execute('''Update Roster \n",
    "                  Set Name='Ezri Dax'\n",
    "                  where Name='Jadzia Dax' ''')\n",
    "\n",
    "cursor.execute(\"Select Name, Species, Age from Roster where Species='Bajoran' \")\n",
    "rows=cursor.fetchall()\n",
    "\n",
    "for row in rows:\n",
    "    print(row)\n",
    "\n",
    "connection.commit()\n",
    "connection.close()\n",
    "\n",
    "\n",
    "\n"
   ]
  },
  {
   "cell_type": "code",
   "execution_count": null,
   "metadata": {},
   "outputs": [],
   "source": []
  }
 ],
 "metadata": {
  "kernelspec": {
   "display_name": "Python 3",
   "language": "python",
   "name": "python3"
  },
  "language_info": {
   "codemirror_mode": {
    "name": "ipython",
    "version": 3
   },
   "file_extension": ".py",
   "mimetype": "text/x-python",
   "name": "python",
   "nbconvert_exporter": "python",
   "pygments_lexer": "ipython3",
   "version": "3.12.8"
  }
 },
 "nbformat": 4,
 "nbformat_minor": 2
}
