
RETURN UNCOMMON ELEMENTS OF LISTS

def uncommon_elements(list1,list2):
    uncommon=[]
    for num in list1:
        if num not in list2:
            uncommon.append(num)
    for num in list2:
        if num not in list1:
            uncommon.append(num)
    return uncommon
print(uncommon_elements([1,1,2],[2,3,4]))

print(uncommon_elements([1,2,3],[4,5,6]))

print(uncommon_elements([1,1,2,3,4,2],[1,3,4,5]))
    
[1, 1, 3, 4]
[1, 2, 3, 4, 5, 6]
[2, 2, 5]
txt nomli string saqlovchi o'zgaruvchi berilgan.txt dagi har uchinchi belgidan keyin pastki chiziqcha (underscore) qo'yilsin.Agar belgi unli harf yoki orqasidan ostki chiziqcha keyingi harfdan keyin qo'yilsin.Agar belgi satrdagi ohirgi belgi bo'lsa chiziqcha qo'yilmasin.

def add_underscore(txt):
    vowels='aeiouAEIOU'
    result=[]
    count =0

    for i in range(len(txt)):
        result.append(txt[i])
        count+=1

        if count==3:
            if txt[i] not in vowels:
                if i+1<len(txt):
                    result.append("_")
            count=0
    return "".join(result)

print(add_underscore("hello"))

print(add_underscore("assalom"))

print(add_underscore("abcabcdabcdeabcdefabcdefg"))
hel_lo
ass_alom
abc_abc_dab_cdeabc_def_abc_def_g
print(add_underscore("abcabcdabcdeabcdefabcdefg"))
abc_abc_dab_cdeabc_def_abc_def_g


for i in range(0, 10):
    if i % 2 == 0:
        a = i
    else:
        b = i

print(a)
print(b)
8
9
for i in range(0, 10, 3):
    print(i)
0
3
6
9
Dictionaries

a = ['a', 'b', 'c']
print(type(a))
print(a)
a[0] = 'd'
print(a)
<class 'list'>
['a', 'b', 'c']
['d', 'b', 'c']
b = ([1, 2], 3, 4)
print(type(b))
<class 'tuple'>
#key:value
diction = {'first_name':'Mike', 'last_name':'Jordan', 'age':27}
print(diction[0])
---------------------------------------------------------------------------
KeyError                                  Traceback (most recent call last)
Cell In[11], line 2
      1 diction = {'first_name':'Mike', 'last_name':'Jordan', 'age':27}
----> 2 print(diction[0])

KeyError: 0
my_list = (['first_name', 'Mike'], ['last_name', 'Jordan'], ['age', 5])
my_dict = dict(my_list)
print(type(my_dict))
print(my_dict)
<class 'dict'>
{'first_name': 'Mike', 'last_name': 'Jordan', 'age': 5}
diction = {'first_name':'Mike', 'last_name':'Jordan', 'age':27}
tupledict = tuple(diction)
print(tupledict)
('first_name', 'last_name', 'age')
people = {'Michael': {
    'age': 25,
    'city': 'London',
    'last_name': 'Jackson'
}, 
'Bruno':
    {
        'age': 30,
        'city': 'Porto',
        'last_name': 'Fernandes'
    }}

print(people['Bruno']['age'])
30
newdict = dict(one=1, two=2, three=3)

print(newdict)
{'one': 1, 'two': 2, 'three': 3}
Mich = people['Michael']
print(Mich)
{'age': 25, 'city': 'London', 'last_name': 'Jackson'}
Mich['address']
---------------------------------------------------------------------------
KeyError                                  Traceback (most recent call last)
Cell In[34], line 1
----> 1 Mich['address']

KeyError: 'address'
if 'address' in Mich:
    print(Mich['address'])
else:
    print('Nothing')
Nothing
'age' not in Mich
False
Mich['address']
---------------------------------------------------------------------------
KeyError                                  Traceback (most recent call last)
Cell In[41], line 1
----> 1 Mich['address']

KeyError: 'address'
Mich.get('age', 'Nothing')
25
Mich.clear()
Mich
{}
people
{'Michael': {},
 'Bruno': {'age': 30, 'city': 'Porto', 'last_name': 'Fernandes'}}
Mich = people['Michael']
Mica = Mich.copy()
print(Mica)
{'age': 25, 'city': 'London', 'last_name': 'Jackson'}
from copy import deepcopy

Mich = people['Michael']
Mich

Mich.clear()

MichDeep = deepcopy(people['Michael'])
MichDeep

MichDeep.clear()

people
{'Michael': {},
 'Bruno': {'age': 30, 'city': 'Porto', 'last_name': 'Fernandes'}}
sample_dict = {'first_name': 'Frodo', 'last_name': 'Baggins', 'age': 210}

sample_dict.items()
dict_items([('first_name', 'Frodo'), ('last_name', 'Baggins'), ('age', 210)])
sample_dict.keys()
dict_keys(['first_name', 'last_name', 'age'])
a = sample_dict.values()
print(type(a))
<class 'dict_values'>
sample_dict.pop('age')
sample_dict
{'first_name': 'Frodo', 'last_name': 'Baggins'}
sample_dict.popitem()
sample_dict
{'first_name': 'Frodo'}
mov_char = {'first_name': 'Frodo', 'last_name': 'Baggins', 'age': 210}
mov_char.update([('address', 'Shiro')])
mov_char.update([('age', 21)])
mov_char
{'first_name': 'Frodo', 'last_name': 'Baggins', 'age': 21, 'address': 'Shiro'}
mov_char['first_name'] = 'Gilmo'
mov_char
{'first_name': 'Gilmo', 'last_name': 'Baggins', 'age': 21, 'address': 'Shiro'}
del mov_char['address']
mov_char
{'first_name': 'Gilmo', 'last_name': 'Baggins', 'age': 21}
Sets

my_set = {'a', 'a', 'b', 'c', 'c', 'd'}
print(type(my_set))
print(my_set)
<class 'set'>
{'b', 'a', 'd', 'c'}
'a' in my_set
True
for i in my_set:
    print(i)
b
a
d
c
my_set.update('a')
my_set
{'a', 'b', 'c', 'd', 'e'}
my_set.add({'g', 'h'})
my_set
---------------------------------------------------------------------------
TypeError                                 Traceback (most recent call last)
Cell In[112], line 1
----> 1 my_set.add({'g', 'h'})
      2 my_set

TypeError: unhashable type: 'set'
my_set.update({'m': 'n'})
my_set
{'a', 'b', 'c', 'd', 'e', 'f', 'g', 'h', 'i', 'm'}
my_set.remove('m')
my_set
{'a', 'b', 'c', 'd', 'e', 'f', 'g', 'h', 'i'}
my_set.discard('m')
my_set
{'a', 'b', 'c', 'd', 'e', 'g', 'h', 'i'}
my_set.pop()
'g'
my_set
{'a', 'c', 'd', 'e', 'h'}
my_set = {'a', 'a', 'b', 'c', 'c', 'd'}
my_set.clear()
my_set
set()
my_set = {'a', 'a', 'b', 'c', 'c', 'd'}
del my_set
my_set
---------------------------------------------------------------------------
NameError                                 Traceback (most recent call last)
Cell In[133], line 3
      1 my_set = {'a', 'a', 'b', 'c', 'c', 'd'}
      2 del my_set
----> 3 my_set

NameError: name 'my_set' is not defined
fruits = {'apple', 'orange', 'pear'}
vegetables = {'tomato', 'cucumber'}

a = fruits.union(vegetables)
print(a)
{'tomato', 'pear', 'cucumber', 'apple', 'orange'}
letter1 = {'a', 'b', 'c'}
letter2 = ['c', 'd']

letter1.union(letter2)
{'a', 'b', 'c', 'd'}
letter1 = {'a', 'b', 'c'}
letter2 = {'c', 'd'}

letter1.intersection(letter2)
{'c'}
letter1 = {'a', 'b', 'c'}
letter2 = {'c', 'd'}

letter2.difference(letter1)
{'d'}
Loops

a = 'hello'
for i in a:
    print(i)
h
e
l
l
o
a = 'hello'
for i in a:
    print(i*3)
hhh
eee
lll
lll
ooo
new_list = [
    [1, 2, 3],
    [4, 5, 6],
    [7, 8, 9]
]
print(new_list[1][1])
5
print(Mica)
for i in Mica:
    print(i, Mica[i])
{'age': 25, 'city': 'London', 'last_name': 'Jackson'}
age 25
city London
last_name Jackson
print(Mica.items())
for a, b in Mica.items():
    print(f'Mica\'s {a} is {b}')
dict_items([('age', 25), ('city', 'London'), ('last_name', 'Jackson')])
Mica's age is 25
Mica's city is London
Mica's last_name is Jackson
lists = [(1, 'apple'), (2, 'banana'), (3, 'grapefruit')]
for a, b in lists:
    print(a, b)
1 apple
2 banana
3 grapefruit
string = 'hello'
for b, i in enumerate(string):
    print(f'{b} - {i}')
0 - h
1 - e
2 - l
3 - l
4 - o
names = ['Zulayxo', 'Chinora', 'Mohira']
languages = ['English', 'French', 'Italian']

for i, b in zip(names, languages):
    print(i, b)
Zulayxo English
Chinora French
Mohira Italian
count = 0
while count < 10:
    print(count)
    count += 1
0
1
2
3
4
5
6
7
8
9
myvariable = True
while not myvariable:
    print('Hi')

    myvariable = False
count = 0
while count < 10:
    if count == 5:
        print(f'{count=}')
        break
    print(count)
    count +=1
0
1
2
3
4
count=5
fruits = [(1, 'Banana'), (2, 'Pear'), (3, 'Apple'), (4, 'GrapeFruit')]
for i, f in fruits:
    print(f'{i} - {f}')
    if f == 'Apple':
        print('Apple Found')
        break
1 - Banana
2 - Pear
3 - Apple
Apple Found
for number in range(2, 10):
    if number%2 == 0:
        continue
    print(number)
3
5
7
9
Pole Chudes

```import random

def pole_chudes():
    print('Welcome to Pole Chudes')
    words = ["Table", "Laptop", "Tech", "Notebook", "Pen", "Factory", "Stone", "Desk", "Ghost", "User", "Flower"]
    word = random.choice(words).upper()
    hidden_word = len(word) * ["_"]
    guessed_letters = set()
    attempts = 3

    print(f'Your word: {" ".join(hidden_word)}')

    while attempts > 0 and "_" in hidden_word:
        print(f'Attempts left: {attempts}')
        guess = input("Guess a letter: ").upper()

        if len(guess) != 1 or not guess.isalpha():
            print('Please enter a single valid letter')
            continue
        if guess in guessed_letters:
            print('You already guessed that letter')
            continue
        guessed_letters.add(guess)

        if guess in word:
            print(f'Good job! You found the letter {guess}')
            for i, letter in enumerate(word):
                if letter == guess:
                    hidden_word[i] = guess
                    print(" ".join(hidden_word))
        else:
            print(f'Sorry, your letter {guess} is not in the word')
            attempts -= 1
        
    if "_" not in hidden_word:
        print(f'Congratulations! You guessed the word: {word}')
    else:
        print(f'Game over! The word was: {word}')

pole_chudes()
Welcome to Pole Chudes
Your word: _ _ _ _
Attempts left: 3
Sorry, your letter G is not in the word
Attempts left: 2
Sorry, your letter D is not in the word
Attempts left: 1
You already guessed that letter
Attempts left: 1
Good job! You found the letter T
T _ _ _
Attempts left: 1
Good job! You found the letter E
T E _ _
Attempts left: 1
Good job! You found the letter C
T E C _
Attempts left: 1
Sorry, your letter K is not in the word
Game over! The word was: TECH
import random

def pole_chudes():
    print('Welcome to Pole Chudes')
    words = ["Table", "Laptop", "Tech", "Notebook", "Pen", "Factory", "Stone", "Desk", "Ghost", "User", "Flower"]
    word = random.choice(words).upper()
    hidden_word = len(word) * ["_"]
    guessed_letters = set()
    attempts = 3

    print(f'Your word: {" ".join(hidden_word)}')

    while attempts > 0 and "_" in hidden_word:
        print(f'Attempts left: {attempts}')
        guess = input("Guess a letter: ").upper()

        if len(guess) != 1 or not guess.isalpha():
            print('Please enter a single valid letter')
            continue
        if guess in guessed_letters:
            print('You already guessed that letter')
            continue
        guessed_letters.add(guess)

        if guess in word:
            print(f'Good job! You found the letter {guess}')
            for i, letter in enumerate(word):
                if letter == guess:
                    hidden_word[i] = guess
                    print(" ".join(hidden_word))
        else:
            print(f'Sorry, your letter {guess} is not in the word')
            attempts -= 1
        
    if "_" not in hidden_word:
        print(f'Congratulations! You guessed the word: {word}')
    else:
        print(f'Game over! The word was: {word}')

pole_chudes()
Welcome to Pole Chudes
Your word: _ _ _ _
Attempts left: 3
Sorry, your letter A is not in the word
Attempts left: 2
Sorry, your letter D is not in the word
Attempts left: 1
Good job! You found the letter T
T _ _ _
Attempts left: 1
Good job! You found the letter E
T E _ _
Attempts left: 1
Good job! You found the letter C
T E C _
Attempts left: 1
Good job! You found the letter H
T E C H
Congratulations! You guessed the word: TECH
 





      
