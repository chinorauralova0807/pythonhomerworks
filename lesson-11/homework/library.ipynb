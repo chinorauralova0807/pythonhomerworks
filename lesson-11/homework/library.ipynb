
#Hometask 4
# Simple Library Management System
# Define Book Class:

# Create a Book class with attributes like ISBN, title, author, and availability status.
# Define Library Class:

# Create a Library class that manages a list of books.
# Include methods to add books, check availability, lend books, and return books.
# Create Main Program:

# Develop a CLI to interact with the Library system.
# Include options to add books, check book availability, lend books, and return books.
# Enhance Library System:

# Add functionality to search for books by title or author, display all book details, and handle cases where a book is unavailable.
# Test the Application:

# Create instances of books and test the functionality of your Library system.
class Book:
    def __init__(self,isnb,title,author):
        self.isbn=isnb
        self.title=title
        self.author=author
        self.is_available=True
    
    def lend(self):
        if self.is_available:
            self.is_available=False
            return f"The book'{self.title}' has been lent out."
        return f"The book '{self.title}' is currently unavailable."
    
    def return_book(self):
        if not self.is_available:
            self.is_available=True
            return f"The book '{self.title}' has been returned."
        return f"The book '{self.title}' was not lent out."
    
class Library:
    def __init__(self):
        self.books=[]

    def add_book(self, book):
        self.books.append(book)
        return f"Book '{book.title}' by {book.author} added successfully."
    
    def find_book(self,identifier,by='isnb'):
        for book in self.books:
            if(by=='isnb' and book.isnb==identifier) or (by=='title' and book.title.lower()==identifier.lower()):
                return book
            return None
        
    def check_availability(self,isbn):
        book=self.find_book(isbn)
        if book:
            return f"The Book '{book.title}' is {'available' if book.is_available else 'unavailable'}."
        
    def lend_book(self, isnb):
        book=self.find_book(isnb)
        if book:
            return book.lend()
        return "Book not found."
    
    def return_book(self, isnb):
        book=self.find_book(isnb)
        if book:
            return book.return_book()
        return 'Book not found.'
            
            
def main():
    library=Library()

    while True:
        print("\nLibrary  Management System")
        print("1. Add a book")
        print("2. Check book availabilty")
        print("3.Lend Book")
        print("4.Return book")
        print("5.search book by title")
        print("6.Display all books")
        print("7.exist")

        choice=input("Enter your choice: ")
        if choice=='1':
            isbn=input("enter isbn: ")
            title=input("Enter title: ")
            author=input("Enter Author: ")
            print(library.add_book(Book(isbn, title, author)))

        elif choice =='2':
            isbn=input("Enter ISBN to check availability: ")
            print(library.check_availability(isbn))

        elif choice=='3':
            isbn=input("Enter ISBN to lend: ")
            print(library.lend_book(isbn))

        elif choice=='4':
            isbn=input("Enter ISBN to return: ")
            print(library.return_book(isbn))

        elif choice == '5':
            title = input("Enter Title to search: ")
            book = library.find_book(title, by='title')
            if book:
                status = "available" if book.is_available else "unavailable"
                print(f"Book Found: ISBN: {book.isbn}, Title: {book.title}, Author: {book.author}, Status: {status}")
            else:
                print("Book not found.")
        
        elif choice=='6':
            if library.books:
                for book in library.books:
                    status="available" if book.is_available else "unailable"
                    print(f"ISBN: {book.isbn}, Title: {book.title}, Author: {book.author}, Status: {status}")

            else:
                print("there are no books in the library")
        
        elif choice=='7':
            print("Existing the Library System. Have a good day!😊")
            break
        else:
            print('Invalid choice!Please try again.')
            





       
def search_by_author(self, author):
    results=[book for book in self.books if author.lower() in book.author.lower()]
    return results
if __name__ =="__main__":
    main()
Library  Management System
1. Add a book
2. Check book availabilty
3.Lend Book
4.Return book
5.search book by title
6.Display all books
7.exist
Book '3' by 4 added successfully.

Library  Management System
1. Add a book
2. Check book availabilty
3.Lend Book
4.Return book
5.search book by title
6.Display all books
7.exist
Book not found.

Library  Management System
1. Add a book
2. Check book availabilty
3.Lend Book
4.Return book
5.search book by title
6.Display all books
7.exist
Existing the Library System. Have a good day!😊
