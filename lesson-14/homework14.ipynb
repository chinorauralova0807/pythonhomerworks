{
 "cells": [
  {
   "cell_type": "code",
   "execution_count": 6,
   "metadata": {},
   "outputs": [
    {
     "name": "stderr",
     "output_type": "stream",
     "text": [
      "<string>:15: SyntaxWarning: invalid escape sequence '\\{'\n",
      "<string>:16: SyntaxWarning: invalid escape sequence '\\{'\n",
      "<string>:17: SyntaxWarning: invalid escape sequence '\\{'\n",
      "<>:15: SyntaxWarning: invalid escape sequence '\\{'\n",
      "<>:16: SyntaxWarning: invalid escape sequence '\\{'\n",
      "<>:17: SyntaxWarning: invalid escape sequence '\\{'\n",
      "<string>:15: SyntaxWarning: invalid escape sequence '\\{'\n",
      "<string>:16: SyntaxWarning: invalid escape sequence '\\{'\n",
      "<string>:17: SyntaxWarning: invalid escape sequence '\\{'\n",
      "<>:15: SyntaxWarning: invalid escape sequence '\\{'\n",
      "<>:16: SyntaxWarning: invalid escape sequence '\\{'\n",
      "<>:17: SyntaxWarning: invalid escape sequence '\\{'\n",
      "C:\\Users\\user\\AppData\\Local\\Temp\\ipykernel_184724\\3772138511.py:15: SyntaxWarning: invalid escape sequence '\\{'\n",
      "  folder_path=f'Project\\{name}'\n",
      "C:\\Users\\user\\AppData\\Local\\Temp\\ipykernel_184724\\3772138511.py:16: SyntaxWarning: invalid escape sequence '\\{'\n",
      "  csv_file_path=f'{folder_path}\\{name}.csv'\n",
      "C:\\Users\\user\\AppData\\Local\\Temp\\ipykernel_184724\\3772138511.py:17: SyntaxWarning: invalid escape sequence '\\{'\n",
      "  jpeg_file_path=f'{folder_path}\\{name}.jpeg'\n"
     ]
    }
   ],
   "source": [
    "import json\n",
    "import os\n",
    "import requests\n",
    "\n",
    "columns='id,name,birth_year,death_year,nationality\\n'\n",
    "with open('actors.json','r') as f:\n",
    "    data=json.load(f)\n",
    "for i in data:\n",
    "    id=i['id']\n",
    "    name=i['name']\n",
    "    birth_year=i['birth_year']\n",
    "    death_year=i.get('death_year','no info')\n",
    "    nationality=i['nationality']\n",
    "    actor_image=i['image']\n",
    "    folder_path=f'Project\\{name}'\n",
    "    csv_file_path=f'{folder_path}\\{name}.csv'\n",
    "    jpeg_file_path=f'{folder_path}\\{name}.jpeg'\n",
    "    os.makedirs(folder_path, exist_ok=True)\n",
    "    with open(csv_file_path,'w') as f:\n",
    "        f.write(columns)\n",
    "        values=f'{id},{name},{birth_year},{death_year},{nationality}'\n",
    "        f.write(values)\n",
    "    with open(jpeg_file_path,'wb') as f:\n",
    "        response=requests.get(actor_image)\n",
    "        f.write(response.content)\n",
    "\n",
    "\n",
    "\n",
    "\n",
    "\n",
    "\n"
   ]
  },
  {
   "cell_type": "code",
   "execution_count": null,
   "metadata": {},
   "outputs": [],
   "source": []
  }
 ],
 "metadata": {
  "kernelspec": {
   "display_name": "Python 3",
   "language": "python",
   "name": "python3"
  },
  "language_info": {
   "codemirror_mode": {
    "name": "ipython",
    "version": 3
   },
   "file_extension": ".py",
   "mimetype": "text/x-python",
   "name": "python",
   "nbconvert_exporter": "python",
   "pygments_lexer": "ipython3",
   "version": "3.12.8"
  }
 },
 "nbformat": 4,
 "nbformat_minor": 2
}
