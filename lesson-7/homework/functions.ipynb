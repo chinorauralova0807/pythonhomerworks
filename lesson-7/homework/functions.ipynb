
1)Write a Python function to find the maximum of three numbers.

def find_max(a,b,c):
    return max(a,b,c)

num1=10
num2=20
num3=25

result=find_max(num1,num2,num3)
print(result)
25
Write a Python function to sum all the numbers in a list.
def find_sum(numbers):
    return sum(numbers)

number_list=[8, 2, 3, 0, 7]
result=find_sum(number_list)
print("The sum of all number is:", result)
The sum of all number is: 20
Write a Python function to multiply all the numbers in a list.
def multiply(numbers):
    result=1
    for i in numbers:
        result*=i
    return result

num_list =[8, 2, 3, -1, 7]
result=multiply(num_list)
print(result)
-336
4)Write a Python program to reverse a string.

def reverse_string(string):
    return string[::-1]

input_string='1234abcd'
result=reverse_string(input_string)
print(result)
dcba4321
5)Write a Python function to calculate the factorial of a number (a non-negative integer). The function accepts the number as an argument.

def factorial(n):
    if n==0 or n==1:
        return 1
    else:
        return n*factorial(n-1)
    
number = 100
result=factorial(number)
print(result)
93326215443944152681699238856266700490715968264381621468592963895217599993229915608941463976156518286253697920827223758251185210916864000000000000000000000000
Write a Python function to check whether a number falls within a given range.
def range_test(n):
    if n in range(4, 24):
        print(f"{n} is in the range")
    else:
        print(f"{n} is not in the range")

range_test(5)
5 is in the range
7)Write a Python function that accepts a string and counts the number of upper and lower case letters

def count_case(string):
    upper_count=0
    lower_count=0

    for char in string:
        if char.isupper():
            upper_count+=1
        elif char.islower():
            lower_count+=1

    print("No. of Upper case characters:", upper_count)
    print("No. of Lower case characters:", lower_count)
    

sample_string = 'The quick Brow Fox'
count_case(sample_string)
No. of Upper case characters: 3
No. of Lower case characters: 12
8)Write a Python function that takes a list and returns a new list with distinct elements from the first list

def distinct(numbers):
    return set(numbers)

input_nums=[1,2,3,3,3,3,4,5]
result=distinct(input_nums)
print(list(result))
[1, 2, 3, 4, 5]
9)Write a Python function that takes a number as a parameter and checks whether the number is prime or not. Note : A prime number (or a prime) is a natural number greater than 1 and that has no positive divisors other than 1 and itself.

def test_prime(n):
    if n<=1:
        return False
    for i in range(2, n):
        if n%i==0:
            return False
    return True
    
    
print(test_prime(9))
print(test_prime(2))
    
False
True
Write a Python program to print the even numbers from a given list. Sample List : [1, 2, 3, 4, 5, 6, 7, 8, 9] Expected Result : [2, 4, 6, 8]
def even_numbers(numbers):
    even_nums=[num for num in numbers if num%2==0]
    return even_nums

sample=[1, 2, 3, 4, 5, 6, 7, 8, 9]
result=even_numbers(sample)
print(result)

    
[2, 4, 6, 8]
Write a Python function to check whether a number is "Perfect" or not. According to Wikipedia : In number theory, a perfect number is a positive integer that is equal to the sum of its proper positive divisors, that is, the sum of its positive divisors excluding the number itself (also known as its aliquot sum). Equivalently, a perfect number is a number that is half the sum of all of its positive divisors (including itself).
def perfect_number(n):
    sum=0
    for i in range(1, n):
        if n%i==0:
            sum+=i

    return sum==n

print(perfect_number(6))
        
True
Write a Python function that checks whether a passed string is a palindrome or not. Note: A palindrome is a word, phrase, or sequence that reads the same backward as forward, e.g., madam or nurses run.
def palindrome(string):
    string=string.replace(" ","").lower()
    return string==string[::-1]

input ='madam'
result=palindrome(input)
print(result)
True
Write a Python function that prints out the first n rows of Pascal's triangle. Note : Pascal's triangle is an arithmetic and geometric figure first imagined by Blaise Pascal.

Write a Python program that accepts a hyphen-separated sequence of words as input and prints the words in a hyphen-separated sequence after sorting them alphabetically. Sample Items : green-red-yellow-black-white Expected Result : black-green-red-white-yellow
def hyphen_separated_sequence(input_string):
    word =input_string.split("-")
    word.sort()
    result='-'.join(word)
    return result

input_string="green-red-yellow-black-white"
result=hyphen_separated_sequence(input_string)
print(result)
black-green-red-white-yellow
Write a Python function to check whether a string is a pangram or not. Note : Pangrams are words or sentences containing every letter of the alphabet at least once. For example : "The quick brown fox jumps over the lazy dog"
def pangram(s):
    s=s.lower()
    letters_found=set()
    for char in s:
        if 'a'<=char<='z':
            letters_found.add(char)

    return len(letters_found)==26

test_string=input("Enter a string: ")
if pangram(test_string):
    print("Yes, this is a pangram!")
else:
    print("No, this is not a pangram.")
Yes, this is a pangram!
Write a Python function to create and print a list where the values are the squares of numbers between 1 and 30 (both included).
def squares():
    numbers=[x**2 for x in range(1, 31)]
    return numbers

squares_list =squares
print(squares_list)
<function squares at 0x000001B148F57B00>
17)Write a Python program to create a chain of function decorators (bold, italic, underline etc.).

 
18)Write a Python program to execute a string containing

def hello_world():
    print("Hello World")

def multiply(x, y):
    result=x*y
    print(f"Multiply of {x} and {y} is: {result}")

hello_world()
multiply(2, 3)
Hello World
Multiply of 2 and 3 is: 6
Write a Python program to access a function inside a function.
 
rite a Python program to detect the number of local variables declared in a function. Sample Output:

def count_local_variables():
    x = 10
    y = 20
    z = 30
    local_variables = locals()
    return len(local_variables)

print(count_local_variables())
3
21). Write a Python program that invokes a function after a specified period of time. Sample Output: Square root after specific miliseconds: 4.0 10.0 158.42979517754858

LAMBDA

Write a Python program to create a lambda function that adds 15 to a given number passed in as an argument, also create a lambda function that multiplies argument x with argument y and prints the result.
add_15=lambda x:x+15
multiply=lambda x,y:x*y
num=10

print(f'Adding 15 to {num }: { add_15(num)}')

x, y= 5, 3
print(f"Multiplying {x} and {y}: {multiply(x,y)}")
Adding 15 to 10: 25
Multiplying 5 and 3: 15
Write a Python program to create a function that takes one argument, and that argument will be multiplied with an unknown given number.
def function(n):
    return lambda x:x*n
result=function(2)
print("Double the number of 15=", result(15))

result=function(3)
print("Triple number of 15=", result(15))

result=function(4)
print("Quadruple the number of 15 =", result(15))

result=function(5)
print("Quintuple the number 15 =", result(15))
Double the number of 15= 30
Triple number of 15= 45
Quadruple the number of 15 = 60
Quintuple the number 15 = 75
Write a Python program to sort a list of tuples using Lambda. Original list of tuples: [('English', 88), ('Science', 90), ('Maths', 97), ('Social sciences', 82)] Sorting the List of Tuples: [('Social sciences', 82), ('English', 88), ('Science', 90), ('Maths', 97)]
original_list=[('English', 88), ('Science', 90), ('Maths', 97), ('Social sciences', 82)]
sorted_list=sorted(original_list, key=lambda x:x[1])

print("Sorting the list of tuples:")
print(sorted_list)
Sorting the list of tuples:
[('Social sciences', 82), ('English', 88), ('Science', 90), ('Maths', 97)]
Write a Python program to sort a list of dictionaries using Lambda. Original list of dictionaries : [{'make': 'Nokia', 'model': 216, 'color': 'Black'}, {'make': 'Mi Max', 'model': '2', 'color': 'Gold'}, {'make': 'Samsung', 'model': 7, 'color': 'Blue'}] Sorting the List of dictionaries : [{'make': 'Nokia', 'model': 216, 'color': 'Black'}, {'make': 'Samsung', 'model': 7, 'color': 'Blue'}, {'make': 'Mi Max', 'model': '2', 'color': 'Gold'}]
items=[{'make': 'Nokia', 'model': 216, 'color': 'Black'},
        {'make': 'Mi Max', 'model': '2', 'color': 'Gold'}, 
        {'make': 'Samsung', 'model': 7, 'color': 'Blue'}]

sorted_items=sorted(items, key=lambda x: x['color'])
print("sorting the items of dictionaries:")
print(sorted_items)
sorting the items of dictionaries:
[{'make': 'Nokia', 'model': 216, 'color': 'Black'}, {'make': 'Samsung', 'model': 7, 'color': 'Blue'}, {'make': 'Mi Max', 'model': '2', 'color': 'Gold'}]
5)Write a Python program to filter a list of integers using Lambda.

integer=[1, 2, 3, 4, 5, 6, 7, 8, 9, 10]

even_number=list(filter(lambda x:x%2==0, integer))
odd_number=list(filter(lambda x: x%2!=0, integer))

print("Original integers: ")
print(integer)

print("\n even numbers: ")
print(even_number)

print("\n odd numbes: ")
print(odd_number)
Original integers: 
[1, 2, 3, 4, 5, 6, 7, 8, 9, 10]

 even numbers: 
[2, 4, 6, 8, 10]

 odd numbes: 
[1, 3, 5, 7, 9]
Write a Python program to square and cube every number in a given list of integers using Lambda. Original list of integers: [1, 2, 3, 4, 5, 6, 7, 8, 9, 10] Square every number of the said list: [1, 4, 9, 16, 25, 36, 49, 64, 81, 100] Cube every number of the said list: [1, 8, 27, 64, 125, 216, 343, 512, 729, 1000]
original_numbers=[1, 2, 3, 4, 5, 6, 7, 8, 9, 10]
square=list(map(lambda x : x**2, original_numbers))
cube=list(map(lambda x: x**3, original_numbers))

print("\n square numbers: ")
print(square)

print("\n cube numbers: ")
print(cube)
 square numbers: 
[1, 4, 9, 16, 25, 36, 49, 64, 81, 100]

 cube numbers: 
[1, 8, 27, 64, 125, 216, 343, 512, 729, 1000]
7). Write a Python program to find if a given string starts with a given character using Lambda. Sample Output: True False

check_start=lambda string, char: string.startswith(char)
print(check_start("Chinora", 'Ch'))
print(check_start("Chinora", 'Sh'))
True
False
Write a Python program to extract year, month, date and time using Lambda. Sample Output: 2020-01-15 09:03:32.744178 2020 1 15 09:03:32.744178
import datetime
now=datetime.datetime.now()
print(now)

year=lambda x: x.year
month=lambda x: x.month
day = lambda x: x.day
t=lambda x: x.time()

print(year(now))
print(month(now))
print(day(now))
print(t(now))
2025-01-20 22:34:15.134438
2025
1
20
22:34:15.134438
Write a Python program to check whether a given string is a number or not using Lambda. Sample Output: True True False True False True Print checking numbers: True True
is_number=lambda x: x.replace('.','',1).isdigit() if x else False
test_strings = ["123", "456.78", "abc", "9.0", "123a", "0"]
print("Print checking numbers:")
for string in test_strings:
    print(is_number(string))
Print checking numbers:
True
True
False
True
False
True
Write a Python program to create Fibonacci series up to n using Lambda. Fibonacci series upto 2: [0, 1] Fibonacci series upto 5: [0, 1, 1, 2, 3] Fibonacci series upto 6: [0, 1, 1, 2, 3, 5] Fibonacci series upto 9: [0, 1, 1, 2, 3, 5, 8, 13, 21]
 
