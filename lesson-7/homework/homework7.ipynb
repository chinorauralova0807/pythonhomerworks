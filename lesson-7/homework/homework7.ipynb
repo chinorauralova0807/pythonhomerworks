{
 "cells": [
  {
   "cell_type": "markdown",
   "metadata": {},
   "source": [
    "1)Write a  Python function to find the maximum of three numbers."
   ]
  },
  {
   "cell_type": "code",
   "execution_count": 1,
   "metadata": {},
   "outputs": [
    {
     "name": "stdout",
     "output_type": "stream",
     "text": [
      "25\n"
     ]
    }
   ],
   "source": [
    "def find_max(a,b,c):\n",
    "    return max(a,b,c)\n",
    "\n",
    "num1=10\n",
    "num2=20\n",
    "num3=25\n",
    "\n",
    "result=find_max(num1,num2,num3)\n",
    "print(result)"
   ]
  },
  {
   "cell_type": "markdown",
   "metadata": {},
   "source": [
    "2) Write a Python function to sum all the numbers in a list."
   ]
  },
  {
   "cell_type": "code",
   "execution_count": 8,
   "metadata": {},
   "outputs": [
    {
     "name": "stdout",
     "output_type": "stream",
     "text": [
      "The sum of all number is: 20\n"
     ]
    }
   ],
   "source": [
    "def find_sum(numbers):\n",
    "    return sum(numbers)\n",
    "\n",
    "number_list=[8, 2, 3, 0, 7]\n",
    "result=find_sum(number_list)\n",
    "print(\"The sum of all number is:\", result)"
   ]
  },
  {
   "cell_type": "markdown",
   "metadata": {},
   "source": [
    "3) Write a Python function to multiply all the numbers in a list."
   ]
  },
  {
   "cell_type": "code",
   "execution_count": 9,
   "metadata": {},
   "outputs": [
    {
     "name": "stdout",
     "output_type": "stream",
     "text": [
      "-336\n"
     ]
    }
   ],
   "source": [
    "def multiply(numbers):\n",
    "    result=1\n",
    "    for i in numbers:\n",
    "        result*=i\n",
    "    return result\n",
    "\n",
    "num_list =[8, 2, 3, -1, 7]\n",
    "result=multiply(num_list)\n",
    "print(result)"
   ]
  },
  {
   "cell_type": "markdown",
   "metadata": {},
   "source": [
    "4)Write a Python program to reverse a string."
   ]
  },
  {
   "cell_type": "code",
   "execution_count": 10,
   "metadata": {},
   "outputs": [
    {
     "name": "stdout",
     "output_type": "stream",
     "text": [
      "dcba4321\n"
     ]
    }
   ],
   "source": [
    "def reverse_string(string):\n",
    "    return string[::-1]\n",
    "\n",
    "input_string='1234abcd'\n",
    "result=reverse_string(input_string)\n",
    "print(result)"
   ]
  },
  {
   "cell_type": "markdown",
   "metadata": {},
   "source": [
    "5)Write a Python function to calculate the factorial of a number (a non-negative integer). \n",
    "The function accepts the number as an argument."
   ]
  },
  {
   "cell_type": "code",
   "execution_count": 13,
   "metadata": {},
   "outputs": [
    {
     "name": "stdout",
     "output_type": "stream",
     "text": [
      "93326215443944152681699238856266700490715968264381621468592963895217599993229915608941463976156518286253697920827223758251185210916864000000000000000000000000\n"
     ]
    }
   ],
   "source": [
    "def factorial(n):\n",
    "    if n==0 or n==1:\n",
    "        return 1\n",
    "    else:\n",
    "        return n*factorial(n-1)\n",
    "    \n",
    "number = 100\n",
    "result=factorial(number)\n",
    "print(result)"
   ]
  },
  {
   "cell_type": "markdown",
   "metadata": {},
   "source": [
    "6) Write a Python function to check whether a number falls within a given range."
   ]
  },
  {
   "cell_type": "code",
   "execution_count": 1,
   "metadata": {},
   "outputs": [
    {
     "name": "stdout",
     "output_type": "stream",
     "text": [
      "5 is in the range\n"
     ]
    }
   ],
   "source": [
    "def range_test(n):\n",
    "    if n in range(4, 24):\n",
    "        print(f\"{n} is in the range\")\n",
    "    else:\n",
    "        print(f\"{n} is not in the range\")\n",
    "\n",
    "range_test(5)\n",
    "\n"
   ]
  },
  {
   "cell_type": "markdown",
   "metadata": {},
   "source": [
    "7)Write a Python function that accepts a string and counts the number of upper and lower case letters"
   ]
  },
  {
   "cell_type": "code",
   "execution_count": 28,
   "metadata": {},
   "outputs": [
    {
     "name": "stdout",
     "output_type": "stream",
     "text": [
      "No. of Upper case characters: 3\n",
      "No. of Lower case characters: 12\n"
     ]
    }
   ],
   "source": [
    "def count_case(string):\n",
    "    upper_count=0\n",
    "    lower_count=0\n",
    "\n",
    "    for char in string:\n",
    "        if char.isupper():\n",
    "            upper_count+=1\n",
    "        elif char.islower():\n",
    "            lower_count+=1\n",
    "\n",
    "    print(\"No. of Upper case characters:\", upper_count)\n",
    "    print(\"No. of Lower case characters:\", lower_count)\n",
    "    \n",
    "\n",
    "sample_string = 'The quick Brow Fox'\n",
    "count_case(sample_string)"
   ]
  },
  {
   "cell_type": "markdown",
   "metadata": {},
   "source": [
    "8)Write a Python function that takes a list and returns a new list with distinct elements from the first list"
   ]
  },
  {
   "cell_type": "code",
   "execution_count": 30,
   "metadata": {},
   "outputs": [
    {
     "name": "stdout",
     "output_type": "stream",
     "text": [
      "[1, 2, 3, 4, 5]\n"
     ]
    }
   ],
   "source": [
    "def distinct(numbers):\n",
    "    return set(numbers)\n",
    "\n",
    "input_nums=[1,2,3,3,3,3,4,5]\n",
    "result=distinct(input_nums)\n",
    "print(list(result))"
   ]
  },
  {
   "cell_type": "markdown",
   "metadata": {},
   "source": [
    "9)Write a Python function that takes a number as a parameter and checks whether the number is prime or not.\n",
    "Note : A prime number (or a prime) is a natural number greater than 1 and that has no positive divisors other than 1 and itself."
   ]
  },
  {
   "cell_type": "code",
   "execution_count": 4,
   "metadata": {},
   "outputs": [
    {
     "name": "stdout",
     "output_type": "stream",
     "text": [
      "False\n",
      "True\n"
     ]
    }
   ],
   "source": [
    "def test_prime(n):\n",
    "    if n<=1:\n",
    "        return False\n",
    "    for i in range(2, n):\n",
    "        if n%i==0:\n",
    "            return False\n",
    "    return True\n",
    "    \n",
    "    \n",
    "print(test_prime(9))\n",
    "print(test_prime(2))\n",
    "    "
   ]
  },
  {
   "cell_type": "markdown",
   "metadata": {},
   "source": [
    "10) Write a Python program to print the even numbers from a given list.\n",
    "Sample List : [1, 2, 3, 4, 5, 6, 7, 8, 9]\n",
    "Expected Result : [2, 4, 6, 8]"
   ]
  },
  {
   "cell_type": "code",
   "execution_count": 33,
   "metadata": {},
   "outputs": [
    {
     "name": "stdout",
     "output_type": "stream",
     "text": [
      "[2, 4, 6, 8]\n"
     ]
    }
   ],
   "source": [
    "def even_numbers(numbers):\n",
    "    even_nums=[num for num in numbers if num%2==0]\n",
    "    return even_nums\n",
    "\n",
    "sample=[1, 2, 3, 4, 5, 6, 7, 8, 9]\n",
    "result=even_numbers(sample)\n",
    "print(result)\n",
    "\n",
    "    "
   ]
  },
  {
   "cell_type": "markdown",
   "metadata": {},
   "source": [
    "11) Write a Python function to check whether a number is \"Perfect\" or not.\n",
    "According to Wikipedia : In number theory, a perfect number is a positive integer that is equal to the sum of its proper positive divisors, that is, the sum of its positive divisors excluding the number itself (also known as its aliquot sum). Equivalently, a perfect number is a number that is half the sum of all of its positive divisors (including itself)."
   ]
  },
  {
   "cell_type": "code",
   "execution_count": 7,
   "metadata": {},
   "outputs": [
    {
     "name": "stdout",
     "output_type": "stream",
     "text": [
      "True\n"
     ]
    }
   ],
   "source": [
    "def perfect_number(n):\n",
    "    sum=0\n",
    "    for i in range(1, n):\n",
    "        if n%i==0:\n",
    "            sum+=i\n",
    "\n",
    "    return sum==n\n",
    "\n",
    "print(perfect_number(6))\n",
    "        "
   ]
  },
  {
   "cell_type": "markdown",
   "metadata": {},
   "source": [
    "12) Write a  Python function that checks whether a passed string is a palindrome or not.\n",
    "Note: A palindrome is a word, phrase, or sequence that reads the same backward as forward, e.g., madam or nurses run."
   ]
  },
  {
   "cell_type": "code",
   "execution_count": 37,
   "metadata": {},
   "outputs": [
    {
     "name": "stdout",
     "output_type": "stream",
     "text": [
      "True\n"
     ]
    }
   ],
   "source": [
    "def palindrome(string):\n",
    "    string=string.replace(\" \",\"\").lower()\n",
    "    return string==string[::-1]\n",
    "\n",
    "input ='madam'\n",
    "result=palindrome(input)\n",
    "print(result)"
   ]
  },
  {
   "cell_type": "markdown",
   "metadata": {},
   "source": [
    "13) Write a Python function that prints out the first n rows of Pascal's triangle.\n",
    "Note : Pascal's triangle is an arithmetic and geometric figure first imagined by Blaise Pascal."
   ]
  },
  {
   "cell_type": "code",
   "execution_count": null,
   "metadata": {},
   "outputs": [],
   "source": [
    "\n"
   ]
  },
  {
   "cell_type": "markdown",
   "metadata": {},
   "source": [
    "15) Write a Python program that accepts a hyphen-separated sequence of words as input and prints the words in a hyphen-separated sequence after sorting them alphabetically.\n",
    "Sample Items : green-red-yellow-black-white\n",
    "Expected Result : black-green-red-white-yellow"
   ]
  },
  {
   "cell_type": "code",
   "execution_count": 38,
   "metadata": {},
   "outputs": [
    {
     "name": "stdout",
     "output_type": "stream",
     "text": [
      "black-green-red-white-yellow\n"
     ]
    }
   ],
   "source": [
    "def hyphen_separated_sequence(input_string):\n",
    "    word =input_string.split(\"-\")\n",
    "    word.sort()\n",
    "    result='-'.join(word)\n",
    "    return result\n",
    "\n",
    "input_string=\"green-red-yellow-black-white\"\n",
    "result=hyphen_separated_sequence(input_string)\n",
    "print(result)"
   ]
  },
  {
   "cell_type": "markdown",
   "metadata": {},
   "source": [
    "14) Write a Python function to check whether a string is a pangram or not.\n",
    "Note : Pangrams are words or sentences containing every letter of the alphabet at least once.\n",
    "For example : \"The quick brown fox jumps over the lazy dog\""
   ]
  },
  {
   "cell_type": "code",
   "execution_count": 8,
   "metadata": {},
   "outputs": [
    {
     "name": "stdout",
     "output_type": "stream",
     "text": [
      "Yes, this is a pangram!\n"
     ]
    }
   ],
   "source": [
    "def pangram(s):\n",
    "    s=s.lower()\n",
    "    letters_found=set()\n",
    "    for char in s:\n",
    "        if 'a'<=char<='z':\n",
    "            letters_found.add(char)\n",
    "\n",
    "    return len(letters_found)==26\n",
    "\n",
    "test_string=input(\"Enter a string: \")\n",
    "if pangram(test_string):\n",
    "    print(\"Yes, this is a pangram!\")\n",
    "else:\n",
    "    print(\"No, this is not a pangram.\")"
   ]
  },
  {
   "cell_type": "markdown",
   "metadata": {},
   "source": [
    "16) Write a Python function to create and print a list where the values are the squares of numbers between 1 and 30 (both included)."
   ]
  },
  {
   "cell_type": "code",
   "execution_count": 40,
   "metadata": {},
   "outputs": [
    {
     "name": "stdout",
     "output_type": "stream",
     "text": [
      "<function squares at 0x000001B148F57B00>\n"
     ]
    }
   ],
   "source": [
    "def squares():\n",
    "    numbers=[x**2 for x in range(1, 31)]\n",
    "    return numbers\n",
    "\n",
    "squares_list =squares\n",
    "print(squares_list)"
   ]
  },
  {
   "cell_type": "markdown",
   "metadata": {},
   "source": [
    "17)Write a Python program to create a chain of function decorators (bold, italic, underline etc.)."
   ]
  },
  {
   "cell_type": "code",
   "execution_count": null,
   "metadata": {},
   "outputs": [],
   "source": []
  },
  {
   "cell_type": "markdown",
   "metadata": {},
   "source": [
    "18)Write a Python program to execute a string containing"
   ]
  },
  {
   "cell_type": "code",
   "execution_count": 41,
   "metadata": {},
   "outputs": [
    {
     "name": "stdout",
     "output_type": "stream",
     "text": [
      "Hello World\n",
      "Multiply of 2 and 3 is: 6\n"
     ]
    }
   ],
   "source": [
    "def hello_world():\n",
    "    print(\"Hello World\")\n",
    "\n",
    "def multiply(x, y):\n",
    "    result=x*y\n",
    "    print(f\"Multiply of {x} and {y} is: {result}\")\n",
    "\n",
    "hello_world()\n",
    "multiply(2, 3)"
   ]
  },
  {
   "cell_type": "markdown",
   "metadata": {},
   "source": [
    "19) Write a Python program to access a function inside a function."
   ]
  },
  {
   "cell_type": "code",
   "execution_count": null,
   "metadata": {},
   "outputs": [],
   "source": []
  },
  {
   "cell_type": "markdown",
   "metadata": {},
   "source": [
    "rite a Python program to detect the number of local variables declared in a function.\n",
    "Sample Output:"
   ]
  },
  {
   "cell_type": "code",
   "execution_count": 42,
   "metadata": {},
   "outputs": [
    {
     "name": "stdout",
     "output_type": "stream",
     "text": [
      "3\n"
     ]
    }
   ],
   "source": [
    "def count_local_variables():\n",
    "    x = 10\n",
    "    y = 20\n",
    "    z = 30\n",
    "    local_variables = locals()\n",
    "    return len(local_variables)\n",
    "\n",
    "print(count_local_variables())\n"
   ]
  },
  {
   "cell_type": "markdown",
   "metadata": {},
   "source": [
    "21). Write a Python program that invokes a function after a specified period of time.\n",
    "Sample Output:\n",
    "Square root after specific miliseconds:\n",
    "4.0\n",
    "10.0\n",
    "158.42979517754858"
   ]
  },
  {
   "cell_type": "markdown",
   "metadata": {},
   "source": []
  },
  {
   "cell_type": "markdown",
   "metadata": {},
   "source": []
  },
  {
   "cell_type": "markdown",
   "metadata": {},
   "source": [
    "LAMBDA"
   ]
  },
  {
   "cell_type": "markdown",
   "metadata": {},
   "source": [
    "1) Write a Python program to create a lambda function that adds 15 to a given number passed in as an argument, also create a lambda function that multiplies argument x with argument y and prints the result."
   ]
  },
  {
   "cell_type": "code",
   "execution_count": 12,
   "metadata": {},
   "outputs": [
    {
     "name": "stdout",
     "output_type": "stream",
     "text": [
      "Adding 15 to 10: 25\n",
      "Multiplying 5 and 3: 15\n"
     ]
    }
   ],
   "source": [
    "add_15=lambda x:x+15\n",
    "multiply=lambda x,y:x*y\n",
    "num=10\n",
    "\n",
    "print(f'Adding 15 to {num }: { add_15(num)}')\n",
    "\n",
    "x, y= 5, 3\n",
    "print(f\"Multiplying {x} and {y}: {multiply(x,y)}\")"
   ]
  },
  {
   "cell_type": "markdown",
   "metadata": {},
   "source": [
    "2) Write a Python program to create a function that takes one argument, and that argument will be multiplied with an unknown given number."
   ]
  },
  {
   "cell_type": "code",
   "execution_count": 1,
   "metadata": {},
   "outputs": [
    {
     "name": "stdout",
     "output_type": "stream",
     "text": [
      "Double the number of 15= 30\n",
      "Triple number of 15= 45\n",
      "Quadruple the number of 15 = 60\n",
      "Quintuple the number 15 = 75\n"
     ]
    }
   ],
   "source": [
    "def function(n):\n",
    "    return lambda x:x*n\n",
    "result=function(2)\n",
    "print(\"Double the number of 15=\", result(15))\n",
    "\n",
    "result=function(3)\n",
    "print(\"Triple number of 15=\", result(15))\n",
    "\n",
    "result=function(4)\n",
    "print(\"Quadruple the number of 15 =\", result(15))\n",
    "\n",
    "result=function(5)\n",
    "print(\"Quintuple the number 15 =\", result(15))"
   ]
  },
  {
   "cell_type": "markdown",
   "metadata": {},
   "source": [
    "3) Write a Python program to sort a list of tuples using Lambda.\n",
    "Original list of tuples:\n",
    "[('English', 88), ('Science', 90), ('Maths', 97), ('Social sciences', 82)]\n",
    "Sorting the List of Tuples:\n",
    "[('Social sciences', 82), ('English', 88), ('Science', 90), ('Maths', 97)]"
   ]
  },
  {
   "cell_type": "code",
   "execution_count": 2,
   "metadata": {},
   "outputs": [
    {
     "name": "stdout",
     "output_type": "stream",
     "text": [
      "Sorting the list of tuples:\n",
      "[('Social sciences', 82), ('English', 88), ('Science', 90), ('Maths', 97)]\n"
     ]
    }
   ],
   "source": [
    "original_list=[('English', 88), ('Science', 90), ('Maths', 97), ('Social sciences', 82)]\n",
    "sorted_list=sorted(original_list, key=lambda x:x[1])\n",
    "\n",
    "print(\"Sorting the list of tuples:\")\n",
    "print(sorted_list)"
   ]
  },
  {
   "cell_type": "markdown",
   "metadata": {},
   "source": [
    "4) Write a Python program to sort a list of dictionaries using Lambda.\n",
    "Original list of dictionaries :\n",
    "[{'make': 'Nokia', 'model': 216, 'color': 'Black'}, {'make': 'Mi Max', 'model': '2', 'color': 'Gold'}, {'make': 'Samsung', 'model': 7, 'color': 'Blue'}]\n",
    "Sorting the List of dictionaries :\n",
    "[{'make': 'Nokia', 'model': 216, 'color': 'Black'}, {'make': 'Samsung', 'model': 7, 'color': 'Blue'}, {'make': 'Mi Max', 'model': '2', 'color': 'Gold'}]"
   ]
  },
  {
   "cell_type": "code",
   "execution_count": 5,
   "metadata": {},
   "outputs": [
    {
     "name": "stdout",
     "output_type": "stream",
     "text": [
      "sorting the items of dictionaries:\n",
      "[{'make': 'Nokia', 'model': 216, 'color': 'Black'}, {'make': 'Samsung', 'model': 7, 'color': 'Blue'}, {'make': 'Mi Max', 'model': '2', 'color': 'Gold'}]\n"
     ]
    }
   ],
   "source": [
    "items=[{'make': 'Nokia', 'model': 216, 'color': 'Black'},\n",
    "        {'make': 'Mi Max', 'model': '2', 'color': 'Gold'}, \n",
    "        {'make': 'Samsung', 'model': 7, 'color': 'Blue'}]\n",
    "\n",
    "sorted_items=sorted(items, key=lambda x: x['color'])\n",
    "print(\"sorting the items of dictionaries:\")\n",
    "print(sorted_items)\n"
   ]
  },
  {
   "cell_type": "markdown",
   "metadata": {},
   "source": [
    "5)Write a Python program to filter a list of integers using Lambda."
   ]
  },
  {
   "cell_type": "code",
   "execution_count": 9,
   "metadata": {},
   "outputs": [
    {
     "name": "stdout",
     "output_type": "stream",
     "text": [
      "Original integers: \n",
      "[1, 2, 3, 4, 5, 6, 7, 8, 9, 10]\n",
      "\n",
      " even numbers: \n",
      "[2, 4, 6, 8, 10]\n",
      "\n",
      " odd numbes: \n",
      "[1, 3, 5, 7, 9]\n"
     ]
    }
   ],
   "source": [
    "integer=[1, 2, 3, 4, 5, 6, 7, 8, 9, 10]\n",
    "\n",
    "even_number=list(filter(lambda x:x%2==0, integer))\n",
    "odd_number=list(filter(lambda x: x%2!=0, integer))\n",
    "\n",
    "print(\"Original integers: \")\n",
    "print(integer)\n",
    "\n",
    "print(\"\\n even numbers: \")\n",
    "print(even_number)\n",
    "\n",
    "print(\"\\n odd numbes: \")\n",
    "print(odd_number)"
   ]
  },
  {
   "cell_type": "markdown",
   "metadata": {},
   "source": [
    "6) Write a Python program to square and cube every number in a given list of integers using Lambda.\n",
    "Original list of integers:\n",
    "[1, 2, 3, 4, 5, 6, 7, 8, 9, 10]\n",
    "Square every number of the said list:\n",
    "[1, 4, 9, 16, 25, 36, 49, 64, 81, 100]\n",
    "Cube every number of the said list:\n",
    "[1, 8, 27, 64, 125, 216, 343, 512, 729, 1000]"
   ]
  },
  {
   "cell_type": "code",
   "execution_count": 12,
   "metadata": {},
   "outputs": [
    {
     "name": "stdout",
     "output_type": "stream",
     "text": [
      "\n",
      " square numbers: \n",
      "[1, 4, 9, 16, 25, 36, 49, 64, 81, 100]\n",
      "\n",
      " cube numbers: \n",
      "[1, 8, 27, 64, 125, 216, 343, 512, 729, 1000]\n"
     ]
    }
   ],
   "source": [
    "original_numbers=[1, 2, 3, 4, 5, 6, 7, 8, 9, 10]\n",
    "square=list(map(lambda x : x**2, original_numbers))\n",
    "cube=list(map(lambda x: x**3, original_numbers))\n",
    "\n",
    "print(\"\\n square numbers: \")\n",
    "print(square)\n",
    "\n",
    "print(\"\\n cube numbers: \")\n",
    "print(cube)\n",
    "\n"
   ]
  },
  {
   "cell_type": "markdown",
   "metadata": {},
   "source": [
    "7). Write a Python program to find if a given string starts with a given character using Lambda.\n",
    "Sample Output:\n",
    "True\n",
    "False"
   ]
  },
  {
   "cell_type": "code",
   "execution_count": 14,
   "metadata": {},
   "outputs": [
    {
     "name": "stdout",
     "output_type": "stream",
     "text": [
      "True\n",
      "False\n"
     ]
    }
   ],
   "source": [
    "check_start=lambda string, char: string.startswith(char)\n",
    "print(check_start(\"Chinora\", 'Ch'))\n",
    "print(check_start(\"Chinora\", 'Sh'))"
   ]
  },
  {
   "cell_type": "markdown",
   "metadata": {},
   "source": [
    "8) Write a Python program to extract year, month, date and time using Lambda.\n",
    "Sample Output:\n",
    "2020-01-15 09:03:32.744178\n",
    "2020\n",
    "1\n",
    "15\n",
    "09:03:32.744178"
   ]
  },
  {
   "cell_type": "code",
   "execution_count": 18,
   "metadata": {},
   "outputs": [
    {
     "name": "stdout",
     "output_type": "stream",
     "text": [
      "2025-01-20 22:34:15.134438\n",
      "2025\n",
      "1\n",
      "20\n",
      "22:34:15.134438\n"
     ]
    }
   ],
   "source": [
    "import datetime\n",
    "now=datetime.datetime.now()\n",
    "print(now)\n",
    "\n",
    "year=lambda x: x.year\n",
    "month=lambda x: x.month\n",
    "day = lambda x: x.day\n",
    "t=lambda x: x.time()\n",
    "\n",
    "print(year(now))\n",
    "print(month(now))\n",
    "print(day(now))\n",
    "print(t(now))\n",
    "\n",
    "\n"
   ]
  },
  {
   "cell_type": "markdown",
   "metadata": {},
   "source": [
    "9) Write a Python program to check whether a given string is a number or not using Lambda.\n",
    "Sample Output:\n",
    "True\n",
    "True\n",
    "False\n",
    "True\n",
    "False\n",
    "True\n",
    "Print checking numbers:\n",
    "True\n",
    "True"
   ]
  },
  {
   "cell_type": "code",
   "execution_count": 19,
   "metadata": {},
   "outputs": [
    {
     "name": "stdout",
     "output_type": "stream",
     "text": [
      "Print checking numbers:\n",
      "True\n",
      "True\n",
      "False\n",
      "True\n",
      "False\n",
      "True\n"
     ]
    }
   ],
   "source": [
    "is_number=lambda x: x.replace('.','',1).isdigit() if x else False\n",
    "test_strings = [\"123\", \"456.78\", \"abc\", \"9.0\", \"123a\", \"0\"]\n",
    "print(\"Print checking numbers:\")\n",
    "for string in test_strings:\n",
    "    print(is_number(string))\n"
   ]
  },
  {
   "cell_type": "markdown",
   "metadata": {},
   "source": [
    "10) Write a Python program to create Fibonacci series up to n using Lambda.\n",
    "Fibonacci series upto 2:\n",
    "[0, 1]\n",
    "Fibonacci series upto 5:\n",
    "[0, 1, 1, 2, 3]\n",
    "Fibonacci series upto 6:\n",
    "[0, 1, 1, 2, 3, 5]\n",
    "Fibonacci series upto 9:\n",
    "[0, 1, 1, 2, 3, 5, 8, 13, 21] "
   ]
  },
  {
   "cell_type": "code",
   "execution_count": null,
   "metadata": {},
   "outputs": [],
   "source": []
  }
 ],
 "metadata": {
  "kernelspec": {
   "display_name": "Python 3",
   "language": "python",
   "name": "python3"
  },
  "language_info": {
   "codemirror_mode": {
    "name": "ipython",
    "version": 3
   },
   "file_extension": ".py",
   "mimetype": "text/x-python",
   "name": "python",
   "nbconvert_exporter": "python",
   "pygments_lexer": "ipython3",
   "version": "3.12.8"
  }
 },
 "nbformat": 4,
 "nbformat_minor": 2
}
