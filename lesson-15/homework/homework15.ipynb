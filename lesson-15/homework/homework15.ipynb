{
 "cells": [
  {
   "cell_type": "code",
   "execution_count": 3,
   "metadata": {},
   "outputs": [
    {
     "ename": "KeyboardInterrupt",
     "evalue": "",
     "output_type": "error",
     "traceback": [
      "\u001b[1;31m---------------------------------------------------------------------------\u001b[0m",
      "\u001b[1;31mKeyboardInterrupt\u001b[0m                         Traceback (most recent call last)",
      "Cell \u001b[1;32mIn[3], line 39\u001b[0m\n\u001b[0;32m     37\u001b[0m       \u001b[38;5;28mprint\u001b[39m()\n\u001b[0;32m     38\u001b[0m clear_output(\u001b[38;5;28;01mTrue\u001b[39;00m)\n\u001b[1;32m---> 39\u001b[0m \u001b[43mtime\u001b[49m\u001b[38;5;241;43m.\u001b[39;49m\u001b[43msleep\u001b[49m\u001b[43m(\u001b[49m\u001b[38;5;241;43m1\u001b[39;49m\u001b[43m)\u001b[49m\n",
      "\u001b[1;31mKeyboardInterrupt\u001b[0m: "
     ]
    }
   ],
   "source": [
    "import requests\n",
    "from datetime import datetime\n",
    "import pytz\n",
    "import time\n",
    "from IPython.display import clear_output\n",
    "\n",
    "api_key='57ded26aa0a344c19e3111316250602'\n",
    "cities=['Tashkent','London']\n",
    "\n",
    "\n",
    "def get_weather(city):\n",
    "    url=f'https://api.weatherapi.com/v1/current.json?key={api_key}&q={city}'\n",
    "    response=requests.get(url)\n",
    "\n",
    "    if response.status_code==200:\n",
    "        data=response.json()\n",
    "        location=data['location']['region']\n",
    "        country=data['location']['country']\n",
    "        temperature=data['current']['temp_c']\n",
    "        condition=data['current']['condition']['text']\n",
    "        time_zone=data['location']['tz_id']\n",
    "        return location,country,temperature,condition,time_zone\n",
    "    \n",
    "def local_time(time_zone):\n",
    "    tz=pytz.timezone(time_zone)\n",
    "    localtime=datetime.now(tz)\n",
    "    return localtime.strftime('%Y-%m-%d %H:%M:%S')\n",
    "    \n",
    "while True:\n",
    "    for city in cities:\n",
    "        weather_information = get_weather(city)\n",
    "\n",
    "        if  weather_information:\n",
    "          location, country, temperature, condition, time_zone = weather_information\n",
    "          print(f\"Weather in {location}, {country}: {condition}  Temperature: {temperature} °C\")\n",
    "          print(f\"Local Time in {city}: {local_time(time_zone)}\")\n",
    "          print()\n",
    "    clear_output(True)\n",
    "    time.sleep(1)\n",
    "\n",
    "\n",
    "\n",
    "\n",
    "\n",
    "     \n",
    "\n",
    "\n",
    "\n",
    "\n",
    "    \n",
    "\n",
    "\n",
    "       \n"
   ]
  },
  {
   "cell_type": "code",
   "execution_count": null,
   "metadata": {},
   "outputs": [],
   "source": []
  }
 ],
 "metadata": {
  "kernelspec": {
   "display_name": "Python 3",
   "language": "python",
   "name": "python3"
  },
  "language_info": {
   "codemirror_mode": {
    "name": "ipython",
    "version": 3
   },
   "file_extension": ".py",
   "mimetype": "text/x-python",
   "name": "python",
   "nbconvert_exporter": "python",
   "pygments_lexer": "ipython3",
   "version": "3.12.8"
  }
 },
 "nbformat": 4,
 "nbformat_minor": 2
}
